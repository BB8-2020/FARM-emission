{
 "cells": [
  {
   "cell_type": "code",
   "execution_count": 1,
   "metadata": {},
   "outputs": [],
   "source": [
    "import matplotlib.pyplot as plt\n",
    "import numpy as np\n",
    "import pandas as pd\n",
    "from sklearn.linear_model import LinearRegression\n",
    "from sklearn.model_selection import train_test_split\n",
    "import sklearn.metrics as metrics\n",
    "from sklearn import tree"
   ]
  },
  {
   "cell_type": "markdown",
   "metadata": {},
   "source": [
    "# Get and prepare data"
   ]
  },
  {
   "cell_type": "code",
   "execution_count": 2,
   "metadata": {},
   "outputs": [],
   "source": [
    "\"\"\"file and folder change into your specific path. Contains dataset\"\"\"\n",
    "\n",
    "LC = [\"AT\", \"BE\", \"NL\", \"DE\", \"UK\",\"EL\", \"EE\",\"DK\", \"CZ\", \"CY\", \"BG\", \"FI\", \"FR\", \"HR\", \"HU\",\"IE\", \"IT\", \"LT\", \"LU\", \"LV\", \"MT\", \"PL\", \"PT\", \"RO\",\"SE\", \"SI\", \"SK\"]\n",
    "file = r'C:/Users/User/Documents/LUCAS2015_topsoildata_20200323/LUCAS_Topsoil_2015_20200323.csv'\n",
    "folder = r\"C:/Users/User/Documents/LUCAS2015_spectra/LUCAS2015_Soil_Spectra_EU28/spectra_ \""
   ]
  },
  {
   "cell_type": "code",
   "execution_count": 8,
   "metadata": {},
   "outputs": [],
   "source": [
    "\"\"\"    \n",
    "Reads all csv files of the LUCAS 2015 dataset. Reads the reflectance\n",
    "values and OC values of all given location points and gets put in a pandas dataframe.\n",
    "\"\"\"\n",
    "result = pd.DataFrame()\n",
    "spec = pd.read_csv(file)\n",
    "\n",
    "for c in LC:\n",
    "    df = pd.read_csv(folder + c + \" .csv\")\n",
    "    columns = df.columns[5:]\n",
    "    columns = columns.insert(0, 'PointID')\n",
    "    left = df[columns]\n",
    "    right = spec[['Point_ID', 'OC']]\n",
    "    right = right.rename(columns={'Point_ID': 'PointID'})\n",
    "    r = pd.merge(left, right, on=\"PointID\")\n",
    "    result = pd.concat([result, r], axis=0)"
   ]
  },
  {
   "cell_type": "code",
   "execution_count": 9,
   "metadata": {},
   "outputs": [
    {
     "name": "stdout",
     "output_type": "stream",
     "text": [
      "13.5 41.3 27.799999999999997\n"
     ]
    }
   ],
   "source": [
    "\"\"\"Remove all strong outliers of the OC values in the dataset.\"\"\"\n",
    "Q1 = result['OC'].quantile(0.25)\n",
    "Q3 = result['OC'].quantile(0.75)\n",
    "IQR = Q3 - Q1\n",
    "print(Q1, Q3, IQR)\n",
    "# comment voor 1e versie model\n",
    "result = result[result['OC'] < Q3 + IQR * 1.5]\n",
    "result = result[result['OC'] > Q1 - IQR * 1.5]\n",
    "U_result = result.reset_index()"
   ]
  },
  {
   "cell_type": "code",
   "execution_count": 10,
   "metadata": {},
   "outputs": [
    {
     "data": {
      "text/html": [
       "<div>\n",
       "<style scoped>\n",
       "    .dataframe tbody tr th:only-of-type {\n",
       "        vertical-align: middle;\n",
       "    }\n",
       "\n",
       "    .dataframe tbody tr th {\n",
       "        vertical-align: top;\n",
       "    }\n",
       "\n",
       "    .dataframe thead th {\n",
       "        text-align: right;\n",
       "    }\n",
       "</style>\n",
       "<table border=\"1\" class=\"dataframe\">\n",
       "  <thead>\n",
       "    <tr style=\"text-align: right;\">\n",
       "      <th></th>\n",
       "      <th>index</th>\n",
       "      <th>PointID</th>\n",
       "      <th>400</th>\n",
       "      <th>400.5</th>\n",
       "      <th>401</th>\n",
       "      <th>401.5</th>\n",
       "      <th>402</th>\n",
       "      <th>402.5</th>\n",
       "      <th>403</th>\n",
       "      <th>403.5</th>\n",
       "      <th>...</th>\n",
       "      <th>2495.5</th>\n",
       "      <th>2496</th>\n",
       "      <th>2496.5</th>\n",
       "      <th>2497</th>\n",
       "      <th>2497.5</th>\n",
       "      <th>2498</th>\n",
       "      <th>2498.5</th>\n",
       "      <th>2499</th>\n",
       "      <th>2499.5</th>\n",
       "      <th>OC</th>\n",
       "    </tr>\n",
       "  </thead>\n",
       "  <tbody>\n",
       "    <tr>\n",
       "      <th>0</th>\n",
       "      <td>0</td>\n",
       "      <td>46442722</td>\n",
       "      <td>0.901924</td>\n",
       "      <td>0.907745</td>\n",
       "      <td>0.913509</td>\n",
       "      <td>0.919191</td>\n",
       "      <td>0.924762</td>\n",
       "      <td>0.930197</td>\n",
       "      <td>0.935479</td>\n",
       "      <td>0.940585</td>\n",
       "      <td>...</td>\n",
       "      <td>0.681045</td>\n",
       "      <td>0.681039</td>\n",
       "      <td>0.681024</td>\n",
       "      <td>0.681001</td>\n",
       "      <td>0.680971</td>\n",
       "      <td>0.680936</td>\n",
       "      <td>0.680897</td>\n",
       "      <td>0.680853</td>\n",
       "      <td>0.680794</td>\n",
       "      <td>36.3</td>\n",
       "    </tr>\n",
       "    <tr>\n",
       "      <th>1</th>\n",
       "      <td>1</td>\n",
       "      <td>46442722</td>\n",
       "      <td>0.898363</td>\n",
       "      <td>0.904257</td>\n",
       "      <td>0.910094</td>\n",
       "      <td>0.915846</td>\n",
       "      <td>0.921486</td>\n",
       "      <td>0.926987</td>\n",
       "      <td>0.932330</td>\n",
       "      <td>0.937492</td>\n",
       "      <td>...</td>\n",
       "      <td>0.677963</td>\n",
       "      <td>0.677970</td>\n",
       "      <td>0.677974</td>\n",
       "      <td>0.677974</td>\n",
       "      <td>0.677971</td>\n",
       "      <td>0.677963</td>\n",
       "      <td>0.677951</td>\n",
       "      <td>0.677934</td>\n",
       "      <td>0.677908</td>\n",
       "      <td>36.3</td>\n",
       "    </tr>\n",
       "    <tr>\n",
       "      <th>2</th>\n",
       "      <td>2</td>\n",
       "      <td>46522722</td>\n",
       "      <td>0.870422</td>\n",
       "      <td>0.876326</td>\n",
       "      <td>0.882174</td>\n",
       "      <td>0.887940</td>\n",
       "      <td>0.893597</td>\n",
       "      <td>0.899119</td>\n",
       "      <td>0.904488</td>\n",
       "      <td>0.909685</td>\n",
       "      <td>...</td>\n",
       "      <td>0.604487</td>\n",
       "      <td>0.604457</td>\n",
       "      <td>0.604425</td>\n",
       "      <td>0.604390</td>\n",
       "      <td>0.604355</td>\n",
       "      <td>0.604319</td>\n",
       "      <td>0.604284</td>\n",
       "      <td>0.604248</td>\n",
       "      <td>0.604204</td>\n",
       "      <td>42.6</td>\n",
       "    </tr>\n",
       "    <tr>\n",
       "      <th>3</th>\n",
       "      <td>3</td>\n",
       "      <td>46522722</td>\n",
       "      <td>0.869277</td>\n",
       "      <td>0.875201</td>\n",
       "      <td>0.881073</td>\n",
       "      <td>0.886863</td>\n",
       "      <td>0.892548</td>\n",
       "      <td>0.898098</td>\n",
       "      <td>0.903495</td>\n",
       "      <td>0.908716</td>\n",
       "      <td>...</td>\n",
       "      <td>0.602782</td>\n",
       "      <td>0.602775</td>\n",
       "      <td>0.602761</td>\n",
       "      <td>0.602740</td>\n",
       "      <td>0.602711</td>\n",
       "      <td>0.602675</td>\n",
       "      <td>0.602634</td>\n",
       "      <td>0.602588</td>\n",
       "      <td>0.602525</td>\n",
       "      <td>42.6</td>\n",
       "    </tr>\n",
       "    <tr>\n",
       "      <th>4</th>\n",
       "      <td>4</td>\n",
       "      <td>46882726</td>\n",
       "      <td>0.937757</td>\n",
       "      <td>0.944273</td>\n",
       "      <td>0.950737</td>\n",
       "      <td>0.957122</td>\n",
       "      <td>0.963402</td>\n",
       "      <td>0.969554</td>\n",
       "      <td>0.975558</td>\n",
       "      <td>0.981393</td>\n",
       "      <td>...</td>\n",
       "      <td>0.660686</td>\n",
       "      <td>0.660632</td>\n",
       "      <td>0.660573</td>\n",
       "      <td>0.660508</td>\n",
       "      <td>0.660440</td>\n",
       "      <td>0.660369</td>\n",
       "      <td>0.660294</td>\n",
       "      <td>0.660218</td>\n",
       "      <td>0.660117</td>\n",
       "      <td>37.4</td>\n",
       "    </tr>\n",
       "    <tr>\n",
       "      <th>...</th>\n",
       "      <td>...</td>\n",
       "      <td>...</td>\n",
       "      <td>...</td>\n",
       "      <td>...</td>\n",
       "      <td>...</td>\n",
       "      <td>...</td>\n",
       "      <td>...</td>\n",
       "      <td>...</td>\n",
       "      <td>...</td>\n",
       "      <td>...</td>\n",
       "      <td>...</td>\n",
       "      <td>...</td>\n",
       "      <td>...</td>\n",
       "      <td>...</td>\n",
       "      <td>...</td>\n",
       "      <td>...</td>\n",
       "      <td>...</td>\n",
       "      <td>...</td>\n",
       "      <td>...</td>\n",
       "      <td>...</td>\n",
       "      <td>...</td>\n",
       "    </tr>\n",
       "    <tr>\n",
       "      <th>31632</th>\n",
       "      <td>451</td>\n",
       "      <td>48482874</td>\n",
       "      <td>0.804873</td>\n",
       "      <td>0.812589</td>\n",
       "      <td>0.820333</td>\n",
       "      <td>0.828019</td>\n",
       "      <td>0.835624</td>\n",
       "      <td>0.843117</td>\n",
       "      <td>0.850475</td>\n",
       "      <td>0.857677</td>\n",
       "      <td>...</td>\n",
       "      <td>0.458666</td>\n",
       "      <td>0.458778</td>\n",
       "      <td>0.458881</td>\n",
       "      <td>0.458979</td>\n",
       "      <td>0.459073</td>\n",
       "      <td>0.459165</td>\n",
       "      <td>0.459258</td>\n",
       "      <td>0.459354</td>\n",
       "      <td>0.459489</td>\n",
       "      <td>17.1</td>\n",
       "    </tr>\n",
       "    <tr>\n",
       "      <th>31633</th>\n",
       "      <td>452</td>\n",
       "      <td>50722882</td>\n",
       "      <td>0.713708</td>\n",
       "      <td>0.721776</td>\n",
       "      <td>0.729873</td>\n",
       "      <td>0.737912</td>\n",
       "      <td>0.745862</td>\n",
       "      <td>0.753694</td>\n",
       "      <td>0.761384</td>\n",
       "      <td>0.768904</td>\n",
       "      <td>...</td>\n",
       "      <td>0.472882</td>\n",
       "      <td>0.472955</td>\n",
       "      <td>0.473020</td>\n",
       "      <td>0.473078</td>\n",
       "      <td>0.473132</td>\n",
       "      <td>0.473184</td>\n",
       "      <td>0.473235</td>\n",
       "      <td>0.473287</td>\n",
       "      <td>0.473360</td>\n",
       "      <td>50.3</td>\n",
       "    </tr>\n",
       "    <tr>\n",
       "      <th>31634</th>\n",
       "      <td>453</td>\n",
       "      <td>50722882</td>\n",
       "      <td>0.714726</td>\n",
       "      <td>0.722801</td>\n",
       "      <td>0.730902</td>\n",
       "      <td>0.738935</td>\n",
       "      <td>0.746873</td>\n",
       "      <td>0.754686</td>\n",
       "      <td>0.762347</td>\n",
       "      <td>0.769831</td>\n",
       "      <td>...</td>\n",
       "      <td>0.474116</td>\n",
       "      <td>0.474202</td>\n",
       "      <td>0.474273</td>\n",
       "      <td>0.474331</td>\n",
       "      <td>0.474379</td>\n",
       "      <td>0.474419</td>\n",
       "      <td>0.474455</td>\n",
       "      <td>0.474490</td>\n",
       "      <td>0.474539</td>\n",
       "      <td>50.3</td>\n",
       "    </tr>\n",
       "    <tr>\n",
       "      <th>31635</th>\n",
       "      <td>454</td>\n",
       "      <td>51822906</td>\n",
       "      <td>0.721657</td>\n",
       "      <td>0.728295</td>\n",
       "      <td>0.734950</td>\n",
       "      <td>0.741537</td>\n",
       "      <td>0.748024</td>\n",
       "      <td>0.754379</td>\n",
       "      <td>0.760583</td>\n",
       "      <td>0.766609</td>\n",
       "      <td>...</td>\n",
       "      <td>0.582359</td>\n",
       "      <td>0.582545</td>\n",
       "      <td>0.582723</td>\n",
       "      <td>0.582896</td>\n",
       "      <td>0.583068</td>\n",
       "      <td>0.583241</td>\n",
       "      <td>0.583418</td>\n",
       "      <td>0.583600</td>\n",
       "      <td>0.583855</td>\n",
       "      <td>24.1</td>\n",
       "    </tr>\n",
       "    <tr>\n",
       "      <th>31636</th>\n",
       "      <td>455</td>\n",
       "      <td>51822906</td>\n",
       "      <td>0.722355</td>\n",
       "      <td>0.728995</td>\n",
       "      <td>0.735652</td>\n",
       "      <td>0.742231</td>\n",
       "      <td>0.748705</td>\n",
       "      <td>0.755044</td>\n",
       "      <td>0.761221</td>\n",
       "      <td>0.767219</td>\n",
       "      <td>...</td>\n",
       "      <td>0.584272</td>\n",
       "      <td>0.584455</td>\n",
       "      <td>0.584635</td>\n",
       "      <td>0.584813</td>\n",
       "      <td>0.584990</td>\n",
       "      <td>0.585165</td>\n",
       "      <td>0.585337</td>\n",
       "      <td>0.585507</td>\n",
       "      <td>0.585739</td>\n",
       "      <td>24.1</td>\n",
       "    </tr>\n",
       "  </tbody>\n",
       "</table>\n",
       "<p>31637 rows × 4203 columns</p>\n",
       "</div>"
      ],
      "text/plain": [
       "       index   PointID       400     400.5       401     401.5       402  \\\n",
       "0          0  46442722  0.901924  0.907745  0.913509  0.919191  0.924762   \n",
       "1          1  46442722  0.898363  0.904257  0.910094  0.915846  0.921486   \n",
       "2          2  46522722  0.870422  0.876326  0.882174  0.887940  0.893597   \n",
       "3          3  46522722  0.869277  0.875201  0.881073  0.886863  0.892548   \n",
       "4          4  46882726  0.937757  0.944273  0.950737  0.957122  0.963402   \n",
       "...      ...       ...       ...       ...       ...       ...       ...   \n",
       "31632    451  48482874  0.804873  0.812589  0.820333  0.828019  0.835624   \n",
       "31633    452  50722882  0.713708  0.721776  0.729873  0.737912  0.745862   \n",
       "31634    453  50722882  0.714726  0.722801  0.730902  0.738935  0.746873   \n",
       "31635    454  51822906  0.721657  0.728295  0.734950  0.741537  0.748024   \n",
       "31636    455  51822906  0.722355  0.728995  0.735652  0.742231  0.748705   \n",
       "\n",
       "          402.5       403     403.5  ...    2495.5      2496    2496.5  \\\n",
       "0      0.930197  0.935479  0.940585  ...  0.681045  0.681039  0.681024   \n",
       "1      0.926987  0.932330  0.937492  ...  0.677963  0.677970  0.677974   \n",
       "2      0.899119  0.904488  0.909685  ...  0.604487  0.604457  0.604425   \n",
       "3      0.898098  0.903495  0.908716  ...  0.602782  0.602775  0.602761   \n",
       "4      0.969554  0.975558  0.981393  ...  0.660686  0.660632  0.660573   \n",
       "...         ...       ...       ...  ...       ...       ...       ...   \n",
       "31632  0.843117  0.850475  0.857677  ...  0.458666  0.458778  0.458881   \n",
       "31633  0.753694  0.761384  0.768904  ...  0.472882  0.472955  0.473020   \n",
       "31634  0.754686  0.762347  0.769831  ...  0.474116  0.474202  0.474273   \n",
       "31635  0.754379  0.760583  0.766609  ...  0.582359  0.582545  0.582723   \n",
       "31636  0.755044  0.761221  0.767219  ...  0.584272  0.584455  0.584635   \n",
       "\n",
       "           2497    2497.5      2498    2498.5      2499    2499.5    OC  \n",
       "0      0.681001  0.680971  0.680936  0.680897  0.680853  0.680794  36.3  \n",
       "1      0.677974  0.677971  0.677963  0.677951  0.677934  0.677908  36.3  \n",
       "2      0.604390  0.604355  0.604319  0.604284  0.604248  0.604204  42.6  \n",
       "3      0.602740  0.602711  0.602675  0.602634  0.602588  0.602525  42.6  \n",
       "4      0.660508  0.660440  0.660369  0.660294  0.660218  0.660117  37.4  \n",
       "...         ...       ...       ...       ...       ...       ...   ...  \n",
       "31632  0.458979  0.459073  0.459165  0.459258  0.459354  0.459489  17.1  \n",
       "31633  0.473078  0.473132  0.473184  0.473235  0.473287  0.473360  50.3  \n",
       "31634  0.474331  0.474379  0.474419  0.474455  0.474490  0.474539  50.3  \n",
       "31635  0.582896  0.583068  0.583241  0.583418  0.583600  0.583855  24.1  \n",
       "31636  0.584813  0.584990  0.585165  0.585337  0.585507  0.585739  24.1  \n",
       "\n",
       "[31637 rows x 4203 columns]"
      ]
     },
     "execution_count": 10,
     "metadata": {},
     "output_type": "execute_result"
    }
   ],
   "source": [
    "U_result"
   ]
  },
  {
   "cell_type": "code",
   "execution_count": 11,
   "metadata": {},
   "outputs": [
    {
     "data": {
      "text/plain": [
       "count    31637.000000\n",
       "mean        24.918257\n",
       "std         16.667604\n",
       "min          0.100000\n",
       "25%         12.800000\n",
       "50%         19.600000\n",
       "75%         32.400000\n",
       "max         82.900000\n",
       "Name: OC, dtype: float64"
      ]
     },
     "execution_count": 11,
     "metadata": {},
     "output_type": "execute_result"
    }
   ],
   "source": [
    "U_result['OC'].describe()"
   ]
  },
  {
   "cell_type": "code",
   "execution_count": 12,
   "metadata": {},
   "outputs": [],
   "source": [
    "\"\"\"Seperate the dataset into its label (y) and input data (X), and \n",
    "split the data into train and test data, the test data is test_size% of the entire dataset.\"\"\"\n",
    "X = U_result[U_result.columns[2:-1]].values\n",
    "y = U_result[U_result.columns[-1]].values\n",
    "X_train, X_test, y_train, y_test = train_test_split(X, y, test_size=0.20,  random_state=3)\n"
   ]
  },
  {
   "cell_type": "markdown",
   "metadata": {},
   "source": [
    "## Linear Regression"
   ]
  },
  {
   "cell_type": "code",
   "execution_count": 13,
   "metadata": {},
   "outputs": [
    {
     "name": "stdout",
     "output_type": "stream",
     "text": [
      "9.782295407893011\n",
      "0.649441729478961\n"
     ]
    }
   ],
   "source": [
    "\"\"\"The linear regression model, build and fitted. Here the\n",
    "results also get printed.\"\"\"\n",
    "model = LinearRegression()\n",
    "model.fit(X_train, y_train)\n",
    "y_pred = model.predict(X_test)\n",
    "print(np.sqrt(metrics.mean_squared_error(y_test, y_pred)))\n",
    "print(model.score(X_test, y_test))"
   ]
  },
  {
   "cell_type": "markdown",
   "metadata": {},
   "source": [
    "## Decision tree regressor"
   ]
  },
  {
   "cell_type": "code",
   "execution_count": 14,
   "metadata": {},
   "outputs": [
    {
     "name": "stdout",
     "output_type": "stream",
     "text": [
      "12.707109013029934\n",
      "0.4084762563118628\n"
     ]
    }
   ],
   "source": [
    "\"\"\"The decision tree model, build and fitted. Here the\n",
    "results also get printed.\"\"\"\n",
    "DT = tree.DecisionTreeRegressor()\n",
    "DT.fit(X_train, y_train)\n",
    "y_predDT = DT.predict(X_test)\n",
    "print(np.sqrt(metrics.mean_squared_error(y_test, y_predDT)))\n",
    "print(DT.score(X_test, y_test))"
   ]
  },
  {
   "cell_type": "code",
   "execution_count": 15,
   "metadata": {},
   "outputs": [
    {
     "name": "stdout",
     "output_type": "stream",
     "text": [
      "18473\n",
      "34\n",
      "{'ccp_alpha': 0.0, 'criterion': 'mse', 'max_depth': None, 'max_features': None, 'max_leaf_nodes': None, 'min_impurity_decrease': 0.0, 'min_impurity_split': None, 'min_samples_leaf': 1, 'min_samples_split': 2, 'min_weight_fraction_leaf': 0.0, 'random_state': None, 'splitter': 'best'}\n"
     ]
    }
   ],
   "source": [
    "\"\"\"Get model characteristics\"\"\"\n",
    "print(DT.get_n_leaves())\n",
    "print(DT.get_depth())\n",
    "print(DT.get_params())"
   ]
  },
  {
   "cell_type": "code",
   "execution_count": 16,
   "metadata": {},
   "outputs": [
    {
     "data": {
      "text/plain": [
       "[<matplotlib.lines.Line2D at 0x20325b79ee0>]"
      ]
     },
     "execution_count": 16,
     "metadata": {},
     "output_type": "execute_result"
    },
    {
     "data": {
      "image/png": "[encoded data removed]",
      "text/plain": [
       "<Figure size 432x288 with 1 Axes>"
      ]
     },
     "metadata": {
      "needs_background": "light"
     },
     "output_type": "display_data"
    }
   ],
   "source": [
    "plt.xlabel('Wavelength (Nm)')\n",
    "plt.ylabel('Reflectance')\n",
    "plt.xticks([100, 300, 500, 1000, 1300, 1500, 1800, 2000, 2300, 2500])\n",
    "\n",
    "plt.plot(result.columns[1:-1], U_result.loc[22426][2:-1].values)"
   ]
  },
  {
   "cell_type": "code",
   "execution_count": null,
   "metadata": {},
   "outputs": [],
   "source": []
  }
 ],
 "metadata": {
  "kernelspec": {
   "display_name": "Python 3",
   "language": "python",
   "name": "python3"
  },
  "language_info": {
   "codemirror_mode": {
    "name": "ipython",
    "version": 3
   },
   "file_extension": ".py",
   "mimetype": "text/x-python",
   "name": "python",
   "nbconvert_exporter": "python",
   "pygments_lexer": "ipython3",
   "version": "3.8.3"
  }
 },
 "nbformat": 4,
 "nbformat_minor": 4
}
