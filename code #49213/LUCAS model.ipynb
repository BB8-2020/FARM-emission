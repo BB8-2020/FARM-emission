{
 "cells": [
  {
   "cell_type": "code",
   "execution_count": 2,
   "metadata": {},
   "outputs": [
    {
     "name": "stdout",
     "output_type": "stream",
     "text": [
      "done\n"
     ]
    }
   ],
   "source": [
    "import csv\n",
    "import matplotlib.pyplot as plt\n",
    "import numpy as np\n",
    "import pandas as pd\n",
    "from scipy import signal\n",
    "from scipy.signal import savgol_filter\n",
    "import random  \n",
    "import time\n",
    "import io\n",
    "import h5py\n",
    "import tensorflow as tf\n",
    "from tensorflow.keras.datasets import mnist     # MNIST dataset is onderdeel van Keras\n",
    "from tensorflow.keras.models import Sequential  # Het type neuraal netwerk dat we gaan gebruiken\n",
    "from tensorflow.keras.layers import Dense, Dropout, Activation  # Verschillende type lagen die we gaan gebruiken\n",
    "from tensorflow.keras.optimizers import SGD, Adam, schedules\n",
    "from tensorflow.keras import utils\n",
    "\n",
    "\n",
    "configuration = tf.compat.v1.ConfigProto()\n",
    "configuration.gpu_options.allow_growth = True\n",
    "session = tf.compat.v1.Session(config=configuration)\n",
    "print(\"done\")"
   ]
  },
  {
   "cell_type": "markdown",
   "metadata": {},
   "source": [
    "# Data prep"
   ]
  },
  {
   "cell_type": "code",
   "execution_count": 3,
   "metadata": {},
   "outputs": [
    {
     "name": "stdout",
     "output_type": "stream",
     "text": [
      "done\n"
     ]
    }
   ],
   "source": [
    "from PIL import Image\n",
    "\n",
    "def get_pixels_val(image_path): # bron: https://stackoverflow.com/questions/138250/how-to-read-the-rgb-value-of-a-given-pixel-in-python\n",
    "    \"\"\"Get a numpy array of an image so that one can access values[x][y].\"\"\"\n",
    "    image = Image.open(image_path, \"r\")\n",
    "    pixel_values = np.array(image)\n",
    "\n",
    "    # width crop\n",
    "    pixel_values = pixel_values[54:-43]\n",
    "    \n",
    "    # height crop\n",
    "    pv = list()\n",
    "    for c, h in enumerate(pixel_values):\n",
    "        pv.append(pixel_values[c, 35:-36])\n",
    "    \n",
    "    return np.array(pv)\n",
    "print(\"done\")"
   ]
  },
  {
   "cell_type": "markdown",
   "metadata": {},
   "source": [
    "# Create transformed and halved csv file"
   ]
  },
  {
   "cell_type": "code",
   "execution_count": 4,
   "metadata": {},
   "outputs": [
    {
     "name": "stdout",
     "output_type": "stream",
     "text": [
      "done\n"
     ]
    }
   ],
   "source": [
    "# opent de og sat data file\n",
    "folder = r\"C:\\Users\\User\\Documents\\LUCAS2015_spectra\\LUCAS2015_Soil_Spectra_EU28_v2\"\n",
    "with open(r\"C:\\Users\\User\\Documents\\LUCAS2015_spectra\\LUCAS2015_Soil_Spectra_EU28\\spectra_ BE .csv\") as f:\n",
    "    # maakt csv reader aan\n",
    "    reader = csv.reader(f)\n",
    "    # Open \n",
    "    with open(folder+\"\\spectra_ BE .csv\", 'w', newline='') as file:\n",
    "        writer = csv.writer(file)\n",
    "        for c, row in enumerate(reader):\n",
    "            if c == 0:\n",
    "                writer.writerow(row[:5] + row[205:-200:2])\n",
    "            else:\n",
    "                x = np.array(row[205:-200:2], dtype='float64')\n",
    "                reflectance = 10**(-x)\n",
    "                writer.writerow(row[:5] + list(reflectance))\n",
    "print(\"done\")"
   ]
  },
  {
   "cell_type": "code",
   "execution_count": 66,
   "metadata": {},
   "outputs": [
    {
     "data": {
      "text/html": [
       "<div>\n",
       "<style scoped>\n",
       "    .dataframe tbody tr th:only-of-type {\n",
       "        vertical-align: middle;\n",
       "    }\n",
       "\n",
       "    .dataframe tbody tr th {\n",
       "        vertical-align: top;\n",
       "    }\n",
       "\n",
       "    .dataframe thead th {\n",
       "        text-align: right;\n",
       "    }\n",
       "</style>\n",
       "<table border=\"1\" class=\"dataframe\">\n",
       "  <thead>\n",
       "    <tr style=\"text-align: right;\">\n",
       "      <th></th>\n",
       "      <th>Point_ID</th>\n",
       "      <th>OC</th>\n",
       "      <th>NUTS_0</th>\n",
       "    </tr>\n",
       "  </thead>\n",
       "  <tbody>\n",
       "    <tr>\n",
       "      <th>0</th>\n",
       "      <td>34103754</td>\n",
       "      <td>25.5</td>\n",
       "      <td>UK</td>\n",
       "    </tr>\n",
       "    <tr>\n",
       "      <th>1</th>\n",
       "      <td>34443774</td>\n",
       "      <td>503.5</td>\n",
       "      <td>UK</td>\n",
       "    </tr>\n",
       "    <tr>\n",
       "      <th>2</th>\n",
       "      <td>35163814</td>\n",
       "      <td>51.4</td>\n",
       "      <td>UK</td>\n",
       "    </tr>\n",
       "    <tr>\n",
       "      <th>3</th>\n",
       "      <td>32323656</td>\n",
       "      <td>470.3</td>\n",
       "      <td>UK</td>\n",
       "    </tr>\n",
       "    <tr>\n",
       "      <th>4</th>\n",
       "      <td>34463934</td>\n",
       "      <td>43.1</td>\n",
       "      <td>UK</td>\n",
       "    </tr>\n",
       "    <tr>\n",
       "      <th>...</th>\n",
       "      <td>...</td>\n",
       "      <td>...</td>\n",
       "      <td>...</td>\n",
       "    </tr>\n",
       "    <tr>\n",
       "      <th>21854</th>\n",
       "      <td>45402772</td>\n",
       "      <td>49.9</td>\n",
       "      <td>AT</td>\n",
       "    </tr>\n",
       "    <tr>\n",
       "      <th>21855</th>\n",
       "      <td>47722672</td>\n",
       "      <td>19.4</td>\n",
       "      <td>AT</td>\n",
       "    </tr>\n",
       "    <tr>\n",
       "      <th>21856</th>\n",
       "      <td>45882618</td>\n",
       "      <td>53.9</td>\n",
       "      <td>AT</td>\n",
       "    </tr>\n",
       "    <tr>\n",
       "      <th>21857</th>\n",
       "      <td>45342706</td>\n",
       "      <td>24.2</td>\n",
       "      <td>AT</td>\n",
       "    </tr>\n",
       "    <tr>\n",
       "      <th>21858</th>\n",
       "      <td>47742660</td>\n",
       "      <td>26.0</td>\n",
       "      <td>AT</td>\n",
       "    </tr>\n",
       "  </tbody>\n",
       "</table>\n",
       "<p>21859 rows × 3 columns</p>\n",
       "</div>"
      ],
      "text/plain": [
       "       Point_ID     OC NUTS_0\n",
       "0      34103754   25.5     UK\n",
       "1      34443774  503.5     UK\n",
       "2      35163814   51.4     UK\n",
       "3      32323656  470.3     UK\n",
       "4      34463934   43.1     UK\n",
       "...         ...    ...    ...\n",
       "21854  45402772   49.9     AT\n",
       "21855  47722672   19.4     AT\n",
       "21856  45882618   53.9     AT\n",
       "21857  45342706   24.2     AT\n",
       "21858  47742660   26.0     AT\n",
       "\n",
       "[21859 rows x 3 columns]"
      ]
     },
     "execution_count": 66,
     "metadata": {},
     "output_type": "execute_result"
    }
   ],
   "source": [
    "co_data_path = r\"C:\\Users\\User\\Documents\\LUCAS2015_topsoildata_20200323\\LUCAS_Topsoil_2015_20200323.csv\"\n",
    "\n",
    "col_list = [\"Point_ID\", \"NUTS_0\", \"OC\"]\n",
    "df = pd.read_csv(co_data_path, usecols=col_list)\n",
    "df\n"
   ]
  },
  {
   "cell_type": "code",
   "execution_count": null,
   "metadata": {},
   "outputs": [],
   "source": []
  },
  {
   "cell_type": "code",
   "execution_count": 119,
   "metadata": {},
   "outputs": [
    {
     "name": "stdout",
     "output_type": "stream",
     "text": [
      "40603048\n",
      "40603048\n",
      "40423056\n",
      "40423056\n",
      "40123032\n",
      "40123032\n",
      "39263086\n",
      "39263086\n",
      "39743148\n",
      "39743148\n",
      "38543096\n",
      "38543096\n",
      "38463096\n",
      "38463096\n",
      "38203100\n",
      "38203100\n",
      "38143104\n",
      "38143104\n",
      "38103106\n",
      "38103106\n",
      "38543122\n",
      "38543122\n",
      "38523118\n",
      "38523118\n",
      "38083120\n",
      "38083120\n",
      "38043130\n",
      "38043130\n",
      "38263134\n",
      "38263134\n",
      "38863068\n",
      "38863068\n",
      "38583090\n",
      "38583090\n",
      "38603088\n",
      "38603088\n",
      "39003046\n",
      "39003046\n",
      "39063046\n",
      "39063046\n",
      "39642992\n",
      "39642992\n",
      "39563076\n",
      "39563076\n",
      "39883048\n",
      "39883048\n",
      "39863070\n",
      "39863070\n",
      "40243026\n",
      "40243026\n",
      "40103044\n",
      "40103044\n",
      "39783064\n",
      "39783064\n",
      "40203054\n",
      "40203054\n",
      "40003082\n",
      "40003082\n",
      "40603038\n",
      "40603038\n",
      "40383036\n",
      "40383036\n",
      "40363052\n",
      "40363052\n",
      "39943050\n",
      "39943050\n",
      "40463040\n",
      "40463040\n",
      "39702984\n",
      "39702984\n",
      "39622978\n",
      "39622978\n",
      "39663000\n",
      "39663000\n",
      "40023022\n",
      "40023022\n",
      "39762996\n",
      "39762996\n",
      "40203018\n",
      "40203018\n",
      "40163006\n",
      "40163006\n",
      "40062984\n",
      "40062984\n",
      "39602980\n",
      "39602980\n",
      "39443068\n",
      "39443068\n",
      "39383058\n",
      "39383058\n",
      "39563058\n",
      "39563058\n",
      "39523056\n",
      "39523056\n",
      "39803036\n",
      "39803036\n",
      "39663018\n",
      "39663018\n",
      "39303032\n",
      "39303032\n",
      "39483050\n",
      "39483050\n",
      "39083090\n",
      "39083090\n",
      "39123108\n",
      "39123108\n",
      "39203112\n",
      "39203112\n",
      "39803096\n",
      "39803096\n",
      "38983116\n",
      "38983116\n",
      "38663098\n",
      "38663098\n",
      "38763094\n",
      "38763094\n",
      "38683122\n",
      "38683122\n",
      "38583130\n",
      "38583130\n",
      "39183118\n",
      "39183118\n",
      "39443158\n",
      "39443158\n",
      "39843144\n",
      "39843144\n",
      "38483156\n",
      "38483156\n",
      "38443098\n",
      "38443098\n",
      "38463106\n",
      "38463106\n",
      "38163110\n",
      "38163110\n",
      "38403112\n",
      "38403112\n",
      "38483134\n",
      "38483134\n",
      "38483116\n",
      "38483116\n",
      "38523136\n",
      "38523136\n",
      "38383118\n",
      "38383118\n",
      "38383124\n",
      "38383124\n",
      "38083128\n",
      "38083128\n",
      "38203142\n",
      "38203142\n",
      "38223144\n",
      "38223144\n",
      "38363144\n",
      "38363144\n",
      "38843066\n",
      "38843066\n",
      "38723068\n",
      "38723068\n",
      "38643070\n",
      "38643070\n",
      "38583072\n",
      "38583072\n",
      "38563082\n",
      "38563082\n",
      "38723078\n",
      "38723078\n",
      "39083042\n",
      "39083042\n",
      "39303054\n",
      "39303054\n",
      "39283056\n",
      "39283056\n",
      "39263060\n",
      "39263060\n",
      "38943054\n",
      "38943054\n",
      "38283100\n",
      "38283100\n",
      "39603074\n",
      "39603074\n",
      "39123076\n",
      "39123076\n",
      "39223078\n",
      "39223078\n",
      "39423074\n",
      "39423074\n",
      "39583078\n",
      "39583078\n",
      "39563098\n",
      "39563098\n",
      "39802996\n",
      "39802996\n",
      "39862992\n",
      "39862992\n",
      "40043010\n",
      "40043010\n",
      "40082970\n",
      "40082970\n",
      "39942982\n",
      "39942982\n",
      "39483040\n",
      "39483040\n",
      "39243002\n",
      "39243002\n",
      "39523026\n",
      "39523026\n",
      "39583054\n",
      "39583054\n",
      "39583032\n",
      "39583032\n",
      "39283020\n",
      "39283020\n",
      "39563112\n",
      "39563112\n",
      "39703092\n",
      "39703092\n",
      "39303122\n",
      "39303122\n",
      "39303086\n",
      "39303086\n",
      "39743098\n",
      "39743098\n",
      "39623104\n",
      "39623104\n",
      "39363034\n",
      "39363034\n",
      "38983092\n",
      "38983092\n",
      "38803102\n",
      "38803102\n",
      "38883110\n",
      "38883110\n",
      "38743106\n",
      "38743106\n",
      "38903114\n",
      "38903114\n",
      "38883118\n",
      "38883118\n",
      "39063124\n",
      "39063124\n",
      "39123144\n",
      "39123144\n",
      "38943130\n",
      "38943130\n",
      "38703124\n",
      "38703124\n",
      "38803134\n",
      "38803134\n",
      "38743146\n",
      "38743146\n",
      "39883120\n",
      "39883120\n",
      "39903096\n",
      "39903096\n",
      "40163114\n",
      "40163114\n",
      "39883092\n",
      "39883092\n",
      "39763078\n",
      "39763078\n",
      "39963136\n",
      "39963136\n",
      "40083088\n",
      "40083088\n",
      "40163108\n",
      "40163108\n",
      "39423106\n",
      "39423106\n",
      "39683136\n",
      "39683136\n",
      "39543150\n",
      "39543150\n",
      "39743134\n",
      "39743134\n",
      "39763144\n",
      "39763144\n",
      "39543124\n",
      "39543124\n",
      "39803126\n",
      "39803126\n",
      "39783128\n",
      "39783128\n",
      "39623132\n",
      "39623132\n",
      "39443132\n",
      "39443132\n",
      "39023088\n",
      "39023088\n",
      "38183132\n",
      "38183132\n"
     ]
    },
    {
     "name": "stderr",
     "output_type": "stream",
     "text": [
      "C:\\ProgramData\\Anaconda3\\lib\\site-packages\\pandas\\core\\generic.py:2606: PerformanceWarning: \n",
      "your performance may suffer as PyTables will pickle object types that it cannot\n",
      "map directly to c-types [inferred_type->mixed,key->block2_values] [items->Index(['NUTS_0', 'spectogram'], dtype='object')]\n",
      "\n",
      "  pytables.to_hdf(\n"
     ]
    },
    {
     "name": "stdout",
     "output_type": "stream",
     "text": [
      "53.726999044418335\n"
     ]
    }
   ],
   "source": [
    "country = \"BE\"\n",
    "df_country = df.loc[df['NUTS_0'] == country]\n",
    "df_country[\"spectogram\"] = np.nan\n",
    "pd.options.mode.chained_assignment = None  #turns an annoying warning off, nothing important\n",
    "df_country[\"spectogram\"] = df_country[\"spectogram\"].astype(object)\n",
    "\n",
    "with open(folder+\"\\spectra_ \" + country +\" .csv\") as fi:\n",
    "    re = csv.reader(fi)\n",
    "    lst = list()\n",
    "    start = time.time()\n",
    "    row1= np.array(next(re)[5:])\n",
    "\n",
    "    for c, ro in enumerate(re):\n",
    "        pointid = ro[2]\n",
    "        print(pointid)\n",
    "        reflectance = np.array(ro[5:])\n",
    "        r = savgol_filter(reflectance, 11, 2)\n",
    "\n",
    "        f, t, Sxx = signal.spectrogram(r, 1)\n",
    "\n",
    "        sxx_sdv = np.array([[ (Sxx[i][j] - np.mean(Sxx[i]) ) / np.std(Sxx[i]) for j in range(Sxx.shape[1])] for i in range(Sxx.shape[0])])\n",
    "\n",
    "        fig, ax = plt.subplots()\n",
    "        ax.axis('off')\n",
    "        ax.pcolormesh(t, f, sxx_sdv, shading='gouraud')#, shading='gouraud'\n",
    "\n",
    "        io_buf = io.BytesIO()\n",
    "        fig.savefig(io_buf, format='rgba', dpi=72)\n",
    "        io_buf.seek(0)\n",
    "        img_arr = np.reshape(np.frombuffer(io_buf.getvalue(), dtype=np.uint8),\n",
    "                             newshape=(int(fig.bbox.bounds[3]), int(fig.bbox.bounds[2]), -1))\n",
    "        io_buf.close()\n",
    "        plt.close()\n",
    "\n",
    "\n",
    "        array = img_arr[35:-36]\n",
    "        array = array[:, 54:-43]\n",
    "        array = np.delete(array[:], -1, -1)\n",
    "        df_country.loc[df_country['Point_ID'] == int(pointid), ['spectogram']] = [array]\n",
    "\n",
    "\n",
    "    \n",
    "df_country = df_country.dropna()\n",
    "df_country.to_hdf(folder+\"\\labeled_data.hdf5\", country)\n",
    "reread = pd.read_hdf(folder+\"\\labeled_data.hdf5\")\n",
    "print(time.time() - start)\n",
    "\n",
    "# TODO: ervoor zorgen dat sneller csv gevuld word (met batches miss werken), ervoor zorgen dat het goed geprint word\n",
    "# npz = np.load(r\"D:\\FARM_data\\Soil_Spectra_s1\\spectra_ BE_array.npz\")"
   ]
  },
  {
   "cell_type": "code",
   "execution_count": 30,
   "metadata": {},
   "outputs": [
    {
     "name": "stdout",
     "output_type": "stream",
     "text": [
      "{}\n"
     ]
    }
   ],
   "source": [
    "#print(lst[0])\n",
    "thisdict =\t{}\n",
    "print(thisdict)"
   ]
  },
  {
   "cell_type": "code",
   "execution_count": 33,
   "metadata": {},
   "outputs": [],
   "source": [
    "f = h5py.File(folder+\"\\mytestfile.hdf5\", \"w\")"
   ]
  },
  {
   "cell_type": "code",
   "execution_count": 34,
   "metadata": {},
   "outputs": [
    {
     "data": {
      "text/plain": [
       "<HDF5 dataset \"BE\": shape (10, 217, 335, 3), type \"|u1\">"
      ]
     },
     "execution_count": 34,
     "metadata": {},
     "output_type": "execute_result"
    }
   ],
   "source": [
    "f.create_dataset('BE', data=lst)"
   ]
  },
  {
   "cell_type": "code",
   "execution_count": 35,
   "metadata": {},
   "outputs": [],
   "source": [
    "f.close()"
   ]
  },
  {
   "cell_type": "code",
   "execution_count": 36,
   "metadata": {},
   "outputs": [],
   "source": [
    "hf = h5py.File(folder+\"\\mytestfile.hdf5\", 'a')"
   ]
  },
  {
   "cell_type": "code",
   "execution_count": 37,
   "metadata": {},
   "outputs": [],
   "source": [
    "n1 = hf.get('BE')"
   ]
  },
  {
   "cell_type": "code",
   "execution_count": 38,
   "metadata": {},
   "outputs": [
    {
     "name": "stdout",
     "output_type": "stream",
     "text": [
      "<HDF5 dataset \"BE\": shape (10, 217, 335, 3), type \"|u1\">\n"
     ]
    }
   ],
   "source": [
    "print(n1)\n",
    "hf.close()"
   ]
  },
  {
   "cell_type": "code",
   "execution_count": 115,
   "metadata": {},
   "outputs": [
    {
     "name": "stdout",
     "output_type": "stream",
     "text": [
      "done\n"
     ]
    },
    {
     "name": "stderr",
     "output_type": "stream",
     "text": [
      "C:\\ProgramData\\Anaconda3\\lib\\site-packages\\pandas\\core\\generic.py:2606: PerformanceWarning: \n",
      "your performance may suffer as PyTables will pickle object types that it cannot\n",
      "map directly to c-types [inferred_type->mixed,key->block2_values] [items->Index(['NUTS_0', 'spectogram'], dtype='object')]\n",
      "\n",
      "  pytables.to_hdf(\n"
     ]
    }
   ],
   "source": [
    "# TODO: Labelen van Spectogram arrays + opsplitsen train en test?(kan miss ook met train_test_split), \n",
    "# Het opstellen van een model\n",
    "\n",
    "df_country.to_hdf(folder+\"\\mytestfile.hdf5\", 'BE')\n",
    "reread = pd.read_hdf(folder+\"\\mytestfile.hdf5\")\n",
    "print('done')\n"
   ]
  },
  {
   "cell_type": "code",
   "execution_count": null,
   "metadata": {},
   "outputs": [],
   "source": [
    "# # Bron: https://www.pythoninformer.com/python-libraries/numpy/numpy-and-images/\n",
    "# img = Image.open('image.jpeg')\n",
    "# array = np.array(img)\n",
    "# array = array[35:-36] #54:-43\n",
    "# array = array[:, 54:-43]\n",
    "# invimg = Image.fromarray(array)\n",
    "# invimg.save('TRANSFORM.jpeg')"
   ]
  },
  {
   "cell_type": "code",
   "execution_count": 117,
   "metadata": {},
   "outputs": [
    {
     "name": "stdout",
     "output_type": "stream",
     "text": [
      "       Point_ID    OC NUTS_0  \\\n",
      "3924   39743148   2.3     BE   \n",
      "3925   39543124  22.4     BE   \n",
      "3926   39483040  15.2     BE   \n",
      "3927   39883092  11.9     BE   \n",
      "3928   39763078   8.6     BE   \n",
      "...         ...   ...    ...   \n",
      "21554  39563058  11.4     BE   \n",
      "21555  39523056  14.3     BE   \n",
      "21556  39803036  10.0     BE   \n",
      "21557  40203018  35.8     BE   \n",
      "21558  38183132  34.3     BE   \n",
      "\n",
      "                                              spectogram  \n",
      "3924   [[[62, 74, 137], [62, 74, 137], [62, 74, 137],...  \n",
      "3925   [[[66, 64, 134], [66, 64, 134], [66, 64, 134],...  \n",
      "3926   [[[66, 65, 134], [66, 65, 134], [66, 65, 134],...  \n",
      "3927   [[[69, 53, 129], [69, 53, 129], [69, 53, 129],...  \n",
      "3928   [[[65, 66, 135], [65, 66, 135], [65, 66, 135],...  \n",
      "...                                                  ...  \n",
      "21554  [[[62, 74, 137], [62, 74, 137], [62, 74, 137],...  \n",
      "21555  [[[65, 66, 135], [65, 66, 135], [65, 66, 135],...  \n",
      "21556  [[[63, 72, 137], [63, 72, 137], [63, 72, 137],...  \n",
      "21557  [[[69, 53, 129], [69, 53, 129], [69, 53, 129],...  \n",
      "21558  [[[61, 78, 138], [61, 78, 138], [61, 78, 138],...  \n",
      "\n",
      "[145 rows x 4 columns]\n"
     ]
    }
   ],
   "source": [
    "print(reread)"
   ]
  },
  {
   "cell_type": "code",
   "execution_count": 45,
   "metadata": {},
   "outputs": [
    {
     "data": {
      "image/png": "[encoded data removed]",
      "text/plain": [
       "<Figure size 432x288 with 1 Axes>"
      ]
     },
     "metadata": {
      "needs_background": "light"
     },
     "output_type": "display_data"
    }
   ],
   "source": [
    "plt.title(\"Line graph\") \n",
    "plt.xlabel(\"X axis\") \n",
    "plt.ylabel(\"Y axis\") \n",
    "plt.plot(row1, r, color =\"red\") \n",
    "plt.show()"
   ]
  },
  {
   "cell_type": "code",
   "execution_count": null,
   "metadata": {},
   "outputs": [],
   "source": [
    "            \n",
    "#                 print(array)\n",
    "            #lst.append(array)\n",
    "#         print(len(lst))\n",
    "            \n",
    "# -80 sec (100)\n",
    "#             plt.savefig(f'image.jpeg')\n",
    "\n",
    "#             img = Image.open('image.jpeg')\n",
    "#             print(type(img))\n",
    "# -3 sec (100)\n",
    "#             array = np.array(img)\n",
    "#             array = array[35:-36]\n",
    "#             array = array[:, 54:-43]\n",
    "# - 3 sec (100)\n",
    "#             lst.append(array)\n",
    "#         np.savez(fil, *lst)"
   ]
  },
  {
   "cell_type": "markdown",
   "metadata": {},
   "source": [
    "# Create npz file with train and test data"
   ]
  },
  {
   "cell_type": "code",
   "execution_count": null,
   "metadata": {},
   "outputs": [],
   "source": []
  }
 ],
 "metadata": {
  "kernelspec": {
   "display_name": "Python 3",
   "language": "python",
   "name": "python3"
  },
  "language_info": {
   "codemirror_mode": {
    "name": "ipython",
    "version": 3
   },
   "file_extension": ".py",
   "mimetype": "text/x-python",
   "name": "python",
   "nbconvert_exporter": "python",
   "pygments_lexer": "ipython3",
   "version": "3.8.3"
  }
 },
 "nbformat": 4,
 "nbformat_minor": 4
}
