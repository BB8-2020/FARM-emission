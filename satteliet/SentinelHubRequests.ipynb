{
 "cells": [
  {
   "cell_type": "code",
   "execution_count": 1,
   "id": "plastic-shirt",
   "metadata": {},
   "outputs": [],
   "source": [
    "import matplotlib.pyplot as plt \n",
    "\n",
    "from sentinelhub import SentinelHubRequest, SentinelHubDownloadClient, DataCollection, MimeType, DownloadRequest, CRS, BBox, SHConfig, Geometry\n",
    "\n",
    "#Credentials\n",
    "\n",
    "CLIENT_ID = '0bd9981e-9f55-48f8-a564-f5db87422602'\n",
    "CLIENT_SECRET = '2#?ILN5#vU&0y6+{vm*]:^+Fqae^ro]:!>I1ka8+'\n",
    "config = SHConfig()\n",
    "\n",
    "config.sh_client_id = CLIENT_ID\n",
    "config.sh_client_secret = CLIENT_SECRET\n"
   ]
  },
  {
   "cell_type": "code",
   "execution_count": 2,
   "id": "ranking-calgary",
   "metadata": {},
   "outputs": [],
   "source": [
    "evalscript = \"\"\"\n",
    "return [B01, B02];\n",
    "\"\"\"\n",
    "bbox = BBox(bbox=[13.822174072265625, 45.85080395917834, 14.55963134765625, 46.29191774991382], crs=CRS.WGS84)\n",
    "\n",
    "request = SentinelHubRequest(\n",
    "  evalscript=evalscript,\n",
    "  input_data=[\n",
    "    SentinelHubRequest.input_data(\n",
    "    data_collection=DataCollection.SENTINEL2_L2A,\n",
    "    time_interval=('2018-10-01', '2018-12-31'),    \n",
    ")\n",
    "  ],\n",
    "  responses=[\n",
    "    SentinelHubRequest.output_response('default', MimeType.PNG),\n",
    "    \n",
    "  ],\n",
    "  bbox=bbox,  \n",
    "  size=[512, 512],\n",
    "  config=config\n",
    ")\n",
    "response = request.get_data() "
   ]
  },
  {
   "cell_type": "code",
   "execution_count": 11,
   "id": "veterinary-sydney",
   "metadata": {},
   "outputs": [
    {
     "name": "stdout",
     "output_type": "stream",
     "text": [
      "1\n"
     ]
    }
   ],
   "source": [
    "print(len(response))"
   ]
  },
  {
   "cell_type": "code",
   "execution_count": 12,
   "id": "usual-setting",
   "metadata": {},
   "outputs": [
    {
     "name": "stdout",
     "output_type": "stream",
     "text": [
      "1\n"
     ]
    }
   ],
   "source": [
    "print(len([0]))"
   ]
  },
  {
   "cell_type": "code",
   "execution_count": null,
   "id": "breathing-sunrise",
   "metadata": {},
   "outputs": [],
   "source": []
  }
 ],
 "metadata": {
  "kernelspec": {
   "display_name": "Python 3",
   "language": "python",
   "name": "python3"
  },
  "language_info": {
   "codemirror_mode": {
    "name": "ipython",
    "version": 3
   },
   "file_extension": ".py",
   "mimetype": "text/x-python",
   "name": "python",
   "nbconvert_exporter": "python",
   "pygments_lexer": "ipython3",
   "version": "3.8.7"
  }
 },
 "nbformat": 4,
 "nbformat_minor": 5
}
