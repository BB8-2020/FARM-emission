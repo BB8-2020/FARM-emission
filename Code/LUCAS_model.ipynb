{
 "cells": [
  {
   "cell_type": "code",
   "execution_count": 1,
   "metadata": {},
   "outputs": [
    {
     "name": "stdout",
     "output_type": "stream",
     "text": [
      "done\n"
     ]
    }
   ],
   "source": [
    "import csv\n",
    "import matplotlib.pyplot as plt\n",
    "import numpy as np\n",
    "import pandas as pd\n",
    "from scipy import signal\n",
    "from scipy.signal import savgol_filter\n",
    "import random  \n",
    "import time\n",
    "import io\n",
    "import h5py\n",
    "import tensorflow as tf\n",
    "from tensorflow.keras.datasets import mnist     # MNIST dataset is onderdeel van Keras\n",
    "from tensorflow.keras.models import Sequential  # Het type neuraal netwerk dat we gaan gebruiken\n",
    "from tensorflow.keras.layers import Dense, Dropout, Activation  # Verschillende type lagen die we gaan gebruiken\n",
    "from tensorflow.keras.optimizers import SGD, Adam, schedules\n",
    "from tensorflow.keras import utils\n",
    "import sys\n",
    "\n",
    "\n",
    "configuration = tf.compat.v1.ConfigProto()\n",
    "configuration.gpu_options.allow_growth = True\n",
    "session = tf.compat.v1.Session(config=configuration)\n",
    "print(\"done\")"
   ]
  },
  {
   "cell_type": "markdown",
   "metadata": {},
   "source": [
    "# Data prep"
   ]
  },
  {
   "cell_type": "code",
   "execution_count": 2,
   "metadata": {},
   "outputs": [
    {
     "name": "stdout",
     "output_type": "stream",
     "text": [
      "done\n"
     ]
    }
   ],
   "source": [
    "from PIL import Image\n",
    "\n",
    "def get_pixels_val(image_path): # bron: https://stackoverflow.com/questions/138250/how-to-read-the-rgb-value-of-a-given-pixel-in-python\n",
    "    \"\"\"Get a numpy array of an image so that one can access values[x][y].\"\"\"\n",
    "    image = Image.open(image_path, \"r\")\n",
    "    pixel_values = np.array(image)\n",
    "\n",
    "    # width crop\n",
    "    pixel_values = pixel_values[54:-43]\n",
    "    \n",
    "    # height crop\n",
    "    pv = list()\n",
    "    for c, h in enumerate(pixel_values):\n",
    "        pv.append(pixel_values[c, 35:-36])\n",
    "    \n",
    "    return np.array(pv)\n",
    "print(\"done\")"
   ]
  },
  {
   "cell_type": "markdown",
   "metadata": {},
   "source": [
    "# Create transformed and halved csv file"
   ]
  },
  {
   "cell_type": "code",
   "execution_count": 3,
   "metadata": {},
   "outputs": [],
   "source": [
    "    \n",
    "folder = r\"D:\\FARM_data\\Soil_Spectra_s1\"\n",
    "def data_clean(countryfile):  \n",
    "    # opent de og sat data file\n",
    "\n",
    "    with open(r\"D:\\FARM_data\\Soil_Spectra\\spectra_ \"+countryfile+\" .csv\") as f:\n",
    "        # maakt csv reader aan\n",
    "        reader = csv.reader(f)\n",
    "        # Open \n",
    "        with open(folder+\"\\spectra_ \"+countryfile+\" .csv\", 'w', newline='') as file:\n",
    "            writer = csv.writer(file)\n",
    "            for c, row in enumerate(reader):\n",
    "                if c == 0:\n",
    "                    writer.writerow(row[:5] + row[205:-200:2])\n",
    "                else:\n",
    "                    x = np.array(row[205:-200:2], dtype='float64')\n",
    "                    reflectance = 10**(-x) # van absorbance naar reflectance\n",
    "                    writer.writerow(row[:5] + list(reflectance))\n"
   ]
  },
  {
   "cell_type": "code",
   "execution_count": 16,
   "metadata": {},
   "outputs": [
    {
     "name": "stdout",
     "output_type": "stream",
     "text": [
      "['0-20', '20-40', '40-60', '60-80', '80-100', '100-120', '120-140', '140-160', '160-180', '180-200', '200-220', '220-240', '240-260', '260-280', '280-300', '300-320', '320-340', '340-360', '360-380', '380-400', '400-420', '420-440', '440-460', '460-480', '480-500', '500-520', '520-540', '540-560']\n"
     ]
    }
   ],
   "source": [
    "range_names = [f'{i-20}-{i}'for i in range(20, 561, 20)]\n",
    "print(range_names)"
   ]
  },
  {
   "cell_type": "code",
   "execution_count": null,
   "metadata": {},
   "outputs": [],
   "source": []
  },
  {
   "cell_type": "code",
   "execution_count": 7,
   "metadata": {},
   "outputs": [],
   "source": [
    "co_data_path = r\"D:\\FARM_data\\LUCAS2015_topsoildata_20200323\\LUCAS_Topsoil_2015_20200323.csv\"\n",
    "\n",
    "col_list = [\"Point_ID\", \"NUTS_0\", \"OC\"]\n",
    "\n",
    "df = pd.read_csv(co_data_path, usecols=col_list)\n",
    "df\n",
    "# df[\"OC_state\"] = \"medium\"\n",
    "# max_value = df[\"OC\"].max()\n",
    "# df.loc[df['OC'] < (max_value * (1/3)), ['OC_state']] = \"bad\"\n",
    "# df.loc[df['OC'] > (max_value * (2/3)), ['OC_state']] = \"good\"\n",
    "# print(df['OC'].value_counts())\n",
    "# print(df['OC'].unique())\n",
    "# plt.bar(df['OC'].value_counts(),df['OC'].unique())"
   ]
  },
  {
   "cell_type": "code",
   "execution_count": 8,
   "metadata": {
    "scrolled": true
   },
   "outputs": [
    {
     "name": "stdout",
     "output_type": "stream",
     "text": [
      "BE\n"
     ]
    },
    {
     "name": "stderr",
     "output_type": "stream",
     "text": [
      "C:\\Anaconda3\\lib\\site-packages\\pandas\\core\\generic.py:2431: PerformanceWarning: \n",
      "your performance may suffer as PyTables will pickle object types that it cannot\n",
      "map directly to c-types [inferred_type->mixed,key->block2_values] [items->Index(['NUTS_0', 'OC_state', 'spectogram'], dtype='object')]\n",
      "\n",
      "  pytables.to_hdf(\n"
     ]
    },
    {
     "name": "stdout",
     "output_type": "stream",
     "text": [
      "19.010596752166748\n"
     ]
    }
   ],
   "source": [
    "countries = [\"BE\"] #DE has problems, ES has memory problems, file size is shit\n",
    "# \"AT\", \"BE\", \"NL\", \"UK\",\"EL\", \"EE\",\"DK\", \"CZ\", \"CY\", \"BG\", \"FI\", \"FR\", \"HR\", \"HU\",\"IE\", \"IT\", \"LT\", \"LU\", \"LV\", \"MT\", \"PL\", \"PT\", \"RO\",\n",
    "# \"SE\", \"SI\", \"SK\"\n",
    "for country in countries:\n",
    "    print(country)\n",
    "    df_country = df.loc[df['NUTS_0'] == country]\n",
    "    df_country[\"spectogram\"] = np.nan\n",
    "    pd.options.mode.chained_assignment = None  #turns an annoying warning off, nothing important\n",
    "    df_country[\"spectogram\"] = df_country[\"spectogram\"].astype(object)\n",
    "\n",
    "    data_clean(country)\n",
    "    with open(folder+\"\\spectra_ \" + country +\" .csv\") as fi:\n",
    "        re = csv.reader(fi)\n",
    "        lst = list()\n",
    "        start = time.time()\n",
    "        row1= np.array(next(re)[5:])\n",
    "\n",
    "        for c, ro in enumerate(re):\n",
    "            pointid = ro[2]\n",
    "            if int(pointid) in df_country['Point_ID'].values:\n",
    "                reflectance = np.array(ro[5:])\n",
    "                r = savgol_filter(reflectance, 11, 2)\n",
    "                \n",
    "                # reflectance spectograms\n",
    "                f, t, Sxx = signal.spectrogram(r, 1)\n",
    "\n",
    "                sxx_sdv = np.array([[ (Sxx[i][j] - np.mean(Sxx[i]) ) / np.std(Sxx[i]) for j in range(Sxx.shape[1])] for i in range(Sxx.shape[0])])\n",
    "\n",
    "                fig, ax = plt.subplots()\n",
    "                ax.axis('off')\n",
    "                ax.pcolormesh(t, f, sxx_sdv, shading='gouraud')#, shading='gouraud'\n",
    "\n",
    "                io_buf = io.BytesIO()\n",
    "                fig.savefig(io_buf, format='rgba', dpi=72)\n",
    "                io_buf.seek(0)\n",
    "                img_arr = np.reshape(np.frombuffer(io_buf.getvalue(), dtype=np.uint8),\n",
    "                                     newshape=(int(fig.bbox.bounds[3]), int(fig.bbox.bounds[2]), -1))\n",
    "                io_buf.close()\n",
    "                plt.close()\n",
    "\n",
    "\n",
    "                array = img_arr[35:-36]\n",
    "                array = array[:, 54:-43]\n",
    "                array = np.delete(array[:], -1, -1)\n",
    "                df_country.loc[df_country['Point_ID'] == int(pointid), ['spectogram']] = [array]\n",
    "\n",
    "\n",
    "\n",
    "    df_country = df_country.dropna()\n",
    "    df_country.to_hdf(folder+\"\\ data.hdf5\", country)\n",
    "    print(time.time() - start)\n",
    "\n",
    "# TODO: ervoor zorgen dat sneller csv gevuld word (met batches miss werken), ervoor zorgen dat het goed geprint word\n",
    "# npz = np.load(r\"D:\\FARM_data\\Soil_Spectra_s1\\spectra_ BE_array.npz\")"
   ]
  },
  {
   "cell_type": "code",
   "execution_count": null,
   "metadata": {},
   "outputs": [],
   "source": [
    "# reread = pd.read_hdf(folder+\"\\labeled_data.hdf5\", key=\"BE\")\n",
    "# reread"
   ]
  },
  {
   "cell_type": "code",
   "execution_count": null,
   "metadata": {},
   "outputs": [],
   "source": []
  },
  {
   "cell_type": "code",
   "execution_count": null,
   "metadata": {},
   "outputs": [],
   "source": [
    "print(100*17/170%10)"
   ]
  },
  {
   "cell_type": "code",
   "execution_count": null,
   "metadata": {},
   "outputs": [],
   "source": [
    "f.create_dataset('BE', data=lst)"
   ]
  },
  {
   "cell_type": "code",
   "execution_count": null,
   "metadata": {},
   "outputs": [],
   "source": [
    "f.close()"
   ]
  },
  {
   "cell_type": "code",
   "execution_count": null,
   "metadata": {},
   "outputs": [],
   "source": [
    "hf = h5py.File(folder+\"\\mytestfile.hdf5\", 'a')"
   ]
  },
  {
   "cell_type": "code",
   "execution_count": null,
   "metadata": {},
   "outputs": [],
   "source": [
    "if 3980204 in df_country['Point_ID'].values:\n",
    "    print(\"true\")\n",
    "else:\n",
    "    print(\"false\")"
   ]
  },
  {
   "cell_type": "code",
   "execution_count": null,
   "metadata": {},
   "outputs": [],
   "source": [
    "print(20%200)"
   ]
  },
  {
   "cell_type": "code",
   "execution_count": null,
   "metadata": {},
   "outputs": [],
   "source": [
    "# TODO: Labelen van Spectogram arrays + opsplitsen train en test?(kan miss ook met train_test_split), \n",
    "# Het opstellen van een model\n",
    "folder = \"D:\\FARM_data\\Soil_Spectra_s1\"\n",
    "# df_country.to_hdf(folder+\"\\mytestfile.hdf5\", 'BE')\n",
    "f = h5py.File(folder+'\\labeled_data.hdf5', 'r')\n",
    "reread = pd.read_hdf(folder+\"\\labeled_data.hdf5\", key='BE')\n",
    "print('done')\n"
   ]
  },
  {
   "cell_type": "code",
   "execution_count": null,
   "metadata": {},
   "outputs": [],
   "source": [
    "print(reread)"
   ]
  },
  {
   "cell_type": "code",
   "execution_count": null,
   "metadata": {},
   "outputs": [],
   "source": [
    "# for i in f.keys():\n",
    "#     print(i)"
   ]
  },
  {
   "cell_type": "code",
   "execution_count": null,
   "metadata": {},
   "outputs": [],
   "source": [
    "# for z in reread['spectogram']:\n",
    "#     print(z.shape)"
   ]
  },
  {
   "cell_type": "code",
   "execution_count": null,
   "metadata": {},
   "outputs": [],
   "source": [
    "# # Bron: https://www.pythoninformer.com/python-libraries/numpy/numpy-and-images/\n",
    "# img = Image.open('image.jpeg')\n",
    "# array = np.array(img)\n",
    "# array = array[35:-36] #54:-43\n",
    "# array = array[:, 54:-43]\n",
    "# invimg = Image.fromarray(array)\n",
    "# invimg.save('TRANSFORM.jpeg')"
   ]
  },
  {
   "cell_type": "code",
   "execution_count": null,
   "metadata": {},
   "outputs": [],
   "source": [
    "print(reread)"
   ]
  },
  {
   "cell_type": "code",
   "execution_count": null,
   "metadata": {},
   "outputs": [],
   "source": [
    "plt.title(\"Line graph\") \n",
    "plt.xlabel(\"X axis\") \n",
    "plt.ylabel(\"Y axis\") \n",
    "plt.plot(row1, r, color =\"red\") \n",
    "plt.show()"
   ]
  },
  {
   "cell_type": "code",
   "execution_count": null,
   "metadata": {},
   "outputs": [],
   "source": [
    "            \n",
    "#                 print(array)\n",
    "            #lst.append(array)\n",
    "#         print(len(lst))\n",
    "            \n",
    "# -80 sec (100)\n",
    "#             plt.savefig(f'image.jpeg')\n",
    "\n",
    "#             img = Image.open('image.jpeg')\n",
    "#             print(type(img))\n",
    "# -3 sec (100)\n",
    "#             array = np.array(img)\n",
    "#             array = array[35:-36]\n",
    "#             array = array[:, 54:-43]\n",
    "# - 3 sec (100)\n",
    "#             lst.append(array)\n",
    "#         np.savez(fil, *lst)"
   ]
  }
 ],
 "metadata": {
  "kernelspec": {
   "display_name": "Python 3",
   "language": "python",
   "name": "python3"
  },
  "language_info": {
   "codemirror_mode": {
    "name": "ipython",
    "version": 3
   },
   "file_extension": ".py",
   "mimetype": "text/x-python",
   "name": "python",
   "nbconvert_exporter": "python",
   "pygments_lexer": "ipython3",
   "version": "3.8.3"
  }
 },
 "nbformat": 4,
 "nbformat_minor": 4
}
