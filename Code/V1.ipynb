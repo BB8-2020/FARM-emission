{
 "cells": [
  {
   "cell_type": "code",
   "execution_count": 1,
   "metadata": {},
   "outputs": [],
   "source": [
    "import csv\n",
    "import matplotlib.pyplot as plt\n",
    "import numpy as np\n",
    "import pandas as pd\n",
    "from scipy import signal\n",
    "from scipy.signal import savgol_filter\n",
    "import random  \n",
    "import time\n",
    "import io\n",
    "import h5py\n",
    "import tensorflow as tf\n",
    "from tensorflow.keras.datasets import mnist     # MNIST dataset is onderdeel van Keras\n",
    "from tensorflow.keras.models import Sequential  # Het type neuraal netwerk dat we gaan gebruiken\n",
    "from tensorflow.keras.layers import Dense, Dropout, Activation  # Verschillende type lagen die we gaan gebruiken\n",
    "from tensorflow.keras.optimizers import SGD, Adam, schedules\n",
    "from tensorflow.keras import utils\n",
    "\n",
    "\n",
    "configuration = tf.compat.v1.ConfigProto()\n",
    "configuration.gpu_options.allow_growth = True\n",
    "session = tf.compat.v1.Session(config=configuration)"
   ]
  },
  {
   "cell_type": "markdown",
   "metadata": {},
   "source": [
    "# Data prep"
   ]
  },
  {
   "cell_type": "code",
   "execution_count": 2,
   "metadata": {},
   "outputs": [],
   "source": [
    "from PIL import Image\n",
    "\n",
    "def get_pixels_val(image_path): # bron: https://stackoverflow.com/questions/138250/how-to-read-the-rgb-value-of-a-given-pixel-in-python\n",
    "    \"\"\"Get a numpy array of an image so that one can access values[x][y].\"\"\"\n",
    "    image = Image.open(image_path, \"r\")\n",
    "    pixel_values = np.array(image)\n",
    "\n",
    "    # width crop\n",
    "    pixel_values = pixel_values[54:-43]\n",
    "    \n",
    "    # height crop\n",
    "    pv = list()\n",
    "    for c, h in enumerate(pixel_values):\n",
    "        pv.append(pixel_values[c, 35:-36])\n",
    "    \n",
    "    return np.array(pv)"
   ]
  },
  {
   "cell_type": "markdown",
   "metadata": {},
   "source": [
    "# Create transformed and halved csv file"
   ]
  },
  {
   "cell_type": "code",
   "execution_count": 3,
   "metadata": {},
   "outputs": [],
   "source": [
    "# opent de og sat data file\n",
    "with open(r\"D:\\FARM_data\\Soil_Spectra\\spectra_ BE .csv\") as f:\n",
    "    # maakt csv reader aan\n",
    "    reader = csv.reader(f)\n",
    "    # Open \n",
    "    with open(r\"D:\\FARM_data\\Soil_Spectra_s1\\spectra_ BE.csv\", 'w', newline='') as file:\n",
    "        writer = csv.writer(file)\n",
    "        for c, row in enumerate(reader):\n",
    "            if c == 0:\n",
    "                writer.writerow(row[:5] + row[205:-200:2])\n",
    "            else:\n",
    "                x = np.array(row[205:-200:2], dtype='float64')\n",
    "                reflectance = 10**(-x)\n",
    "                writer.writerow(row[:5] + list(reflectance))\n"
   ]
  },
  {
   "cell_type": "code",
   "execution_count": 7,
   "metadata": {},
   "outputs": [
    {
     "name": "stdout",
     "output_type": "stream",
     "text": [
      "3.800016164779663\n"
     ]
    }
   ],
   "source": [
    "with open(r\"D:\\FARM_data\\Soil_Spectra_s1\\spectra_ BE.csv\") as fi:\n",
    "    re = csv.reader(fi)\n",
    "    lst = list()\n",
    "    start = time.time()\n",
    "    row1= np.array(next(re)[5:])\n",
    "    \n",
    "    with open(r\"D:\\FARM_data\\Soil_Spectra_s1\\spectra_ BE_array.npz\", \"wb\") as fil:\n",
    "        for c, ro in enumerate(re):\n",
    "            if c == 100:\n",
    "                break\n",
    "            reflectance = np.array(ro[5:])\n",
    "            r = savgol_filter(reflectance, 11, 2)\n",
    "\n",
    "            f, t, Sxx = signal.spectrogram(r, 1)\n",
    "\n",
    "            sxx_sdv = np.array([[ (Sxx[i][j] - np.mean(Sxx[i]) ) / np.std(Sxx[i]) for j in range(Sxx.shape[1])] for i in range(Sxx.shape[0])])\n",
    "            \n",
    "            fig, ax = plt.subplots()\n",
    "            ax.axis('off')\n",
    "            ax.pcolormesh(t, f, sxx_sdv, shading='gouraud')#, shading='gouraud'\n",
    "            plt.plot()\n",
    "            io_buf = io.BytesIO()\n",
    "            fig.savefig(io_buf, format='rgba', dpi=72)\n",
    "            io_buf.seek(0)\n",
    "            img_arr = np.reshape(np.frombuffer(io_buf.getvalue(), dtype=np.uint8),\n",
    "                                 newshape=(int(fig.bbox.bounds[3]), int(fig.bbox.bounds[2]), -1))\n",
    "            io_buf.close()\n",
    "            plt.close()\n",
    "\n",
    "\n",
    "#             array = img_arr[35:-36]\n",
    "#             array = array[:, 54:-43]\n",
    "#             array = np.delete(array[:], -1, -1)\n",
    "# #                 print(array)\n",
    "#             lst.append(array)\n",
    "#         print(len(lst))\n",
    "            \n",
    "# -80 sec (100)\n",
    "#             plt.savefig(f'image.jpeg')\n",
    "\n",
    "#             img = Image.open('image.jpeg')\n",
    "#             print(type(img))\n",
    "# -3 sec (100)\n",
    "#             array = np.array(img)\n",
    "#             array = array[35:-36]\n",
    "#             array = array[:, 54:-43]\n",
    "# - 3 sec (100)\n",
    "#             lst.append(array)\n",
    "#         np.savez(fil, *lst)\n",
    "    print(time.time() - start)\n",
    "\n",
    "\n",
    "# TODO: ervoor zorgen dat sneller csv gevuld word (met batches miss werken), ervoor zorgen dat het goed geprint word\n",
    "# npz = np.load(r\"D:\\FARM_data\\Soil_Spectra_s1\\spectra_ BE_array.npz\")"
   ]
  },
  {
   "cell_type": "code",
   "execution_count": 5,
   "metadata": {},
   "outputs": [],
   "source": [
    "f = h5py.File(\"D:\\FARM_data\\Soil_Spectra_s1\\mytestfile.hdf5\", \"w\")"
   ]
  },
  {
   "cell_type": "code",
   "execution_count": 6,
   "metadata": {},
   "outputs": [
    {
     "data": {
      "text/plain": [
       "<HDF5 dataset \"BE\": shape (100, 217, 335, 3), type \"|u1\">"
      ]
     },
     "execution_count": 6,
     "metadata": {},
     "output_type": "execute_result"
    }
   ],
   "source": [
    "f.create_dataset('BE', data=lst)"
   ]
  },
  {
   "cell_type": "code",
   "execution_count": 7,
   "metadata": {},
   "outputs": [],
   "source": [
    "f.close()"
   ]
  },
  {
   "cell_type": "code",
   "execution_count": 8,
   "metadata": {},
   "outputs": [],
   "source": [
    "hf = h5py.File('D:\\FARM_data\\Soil_Spectra_s1\\mytestfile.hdf5', 'a')"
   ]
  },
  {
   "cell_type": "code",
   "execution_count": 9,
   "metadata": {},
   "outputs": [],
   "source": [
    "n1 = hf.get('BE')"
   ]
  },
  {
   "cell_type": "code",
   "execution_count": 10,
   "metadata": {},
   "outputs": [
    {
     "name": "stdout",
     "output_type": "stream",
     "text": [
      "<HDF5 dataset \"BE\": shape (100, 217, 335, 3), type \"|u1\">\n"
     ]
    }
   ],
   "source": [
    "print(n1)"
   ]
  },
  {
   "cell_type": "code",
   "execution_count": 14,
   "metadata": {},
   "outputs": [],
   "source": [
    "# TODO: Labelen van Spectogram arrays + opsplitsen train en test?(kan miss ook met train_test_split), \n",
    "# Het opstellen van een model"
   ]
  },
  {
   "cell_type": "code",
   "execution_count": 10,
   "metadata": {},
   "outputs": [],
   "source": [
    "# # Bron: https://www.pythoninformer.com/python-libraries/numpy/numpy-and-images/\n",
    "# img = Image.open('image.jpeg')\n",
    "# array = np.array(img)\n",
    "# array = array[35:-36] #54:-43\n",
    "# array = array[:, 54:-43]\n",
    "# invimg = Image.fromarray(array)\n",
    "# invimg.save('TRANSFORM.jpeg')"
   ]
  }
 ],
 "metadata": {
  "kernelspec": {
   "display_name": "Python 3",
   "language": "python",
   "name": "python3"
  },
  "language_info": {
   "codemirror_mode": {
    "name": "ipython",
    "version": 3
   },
   "file_extension": ".py",
   "mimetype": "text/x-python",
   "name": "python",
   "nbconvert_exporter": "python",
   "pygments_lexer": "ipython3",
   "version": "3.8.3"
  }
 },
 "nbformat": 4,
 "nbformat_minor": 4
}
