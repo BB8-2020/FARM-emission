{
 "cells": [
  {
   "cell_type": "code",
   "execution_count": 1,
   "metadata": {},
   "outputs": [
    {
     "name": "stdout",
     "output_type": "stream",
     "text": [
      "done\n"
     ]
    }
   ],
   "source": [
    "import csv\n",
    "import matplotlib.pyplot as plt\n",
    "import numpy as np\n",
    "import pandas as pd\n",
    "from scipy import signal\n",
    "from scipy.signal import savgol_filter\n",
    "import random  \n",
    "import time\n",
    "import io\n",
    "import h5py\n",
    "import tensorflow as tf\n",
    "from tensorflow.keras.datasets import mnist     # MNIST dataset is onderdeel van Keras\n",
    "from tensorflow.keras.models import Sequential  # Het type neuraal netwerk dat we gaan gebruiken\n",
    "from tensorflow.keras.layers import Dense, Dropout, Activation  # Verschillende type lagen die we gaan gebruiken\n",
    "from tensorflow.keras.optimizers import SGD, Adam, schedules\n",
    "from tensorflow.keras import utils\n",
    "import sys\n",
    "\n",
    "\n",
    "configuration = tf.compat.v1.ConfigProto()\n",
    "configuration.gpu_options.allow_growth = True\n",
    "session = tf.compat.v1.Session(config=configuration)\n",
    "print(\"done\")"
   ]
  },
  {
   "cell_type": "markdown",
   "metadata": {},
   "source": [
    "# Data prep"
   ]
  },
  {
   "cell_type": "code",
   "execution_count": 2,
   "metadata": {},
   "outputs": [
    {
     "name": "stdout",
     "output_type": "stream",
     "text": [
      "done\n"
     ]
    }
   ],
   "source": [
    "from PIL import Image\n",
    "\n",
    "def get_pixels_val(image_path): # bron: https://stackoverflow.com/questions/138250/how-to-read-the-rgb-value-of-a-given-pixel-in-python\n",
    "    \"\"\"Get a numpy array of an image so that one can access values[x][y].\"\"\"\n",
    "    image = Image.open(image_path, \"r\")\n",
    "    pixel_values = np.array(image)\n",
    "\n",
    "    # width crop\n",
    "    pixel_values = pixel_values[54:-43]\n",
    "    \n",
    "    # height crop\n",
    "    pv = list()\n",
    "    for c, h in enumerate(pixel_values):\n",
    "        pv.append(pixel_values[c, 35:-36])\n",
    "    \n",
    "    return np.array(pv)\n",
    "print(\"done\")"
   ]
  },
  {
   "cell_type": "markdown",
   "metadata": {},
   "source": [
    "# Create transformed and halved csv file"
   ]
  },
  {
   "cell_type": "code",
   "execution_count": 3,
   "metadata": {},
   "outputs": [],
   "source": [
    "    \n",
    "folder = r\"D:\\FARM_data\\Soil_Spectra_Label\"\n",
    "def data_clean(countryfile):  \n",
    "    # opent de og sat data file\n",
    "\n",
    "    with open(r\"D:\\FARM_data\\Soil_Spectra\\spectra_ \"+countryfile+\" .csv\") as f:\n",
    "        # maakt csv reader aan\n",
    "        reader = csv.reader(f)\n",
    "        # Open \n",
    "        with open(folder+\"\\spectra_ \"+countryfile+\" .csv\", 'w', newline='') as file:\n",
    "            writer = csv.writer(file)\n",
    "            for c, row in enumerate(reader):\n",
    "                if c == 0:\n",
    "                    writer.writerow(row[:5] + row[205:-200:2])\n",
    "                else:\n",
    "                    x = np.array(row[205:-200:2], dtype='float64')\n",
    "                    reflectance = 10**(-x)\n",
    "                    writer.writerow(row[:5] + list(reflectance))\n"
   ]
  },
  {
   "cell_type": "code",
   "execution_count": 4,
   "metadata": {},
   "outputs": [
    {
     "name": "stdout",
     "output_type": "stream",
     "text": [
      "28\n"
     ]
    }
   ],
   "source": [
    "range_names = [f'{i-20}-{i}'for i in range(20, 561, 20)]\n",
    "print(len(range_names))"
   ]
  },
  {
   "cell_type": "code",
   "execution_count": 5,
   "metadata": {},
   "outputs": [
    {
     "data": {
      "text/html": [
       "<div>\n",
       "<style scoped>\n",
       "    .dataframe tbody tr th:only-of-type {\n",
       "        vertical-align: middle;\n",
       "    }\n",
       "\n",
       "    .dataframe tbody tr th {\n",
       "        vertical-align: top;\n",
       "    }\n",
       "\n",
       "    .dataframe thead th {\n",
       "        text-align: right;\n",
       "    }\n",
       "</style>\n",
       "<table border=\"1\" class=\"dataframe\">\n",
       "  <thead>\n",
       "    <tr style=\"text-align: right;\">\n",
       "      <th></th>\n",
       "      <th>Point_ID</th>\n",
       "      <th>OC</th>\n",
       "      <th>NUTS_0</th>\n",
       "      <th>OC_state</th>\n",
       "    </tr>\n",
       "  </thead>\n",
       "  <tbody>\n",
       "    <tr>\n",
       "      <th>0</th>\n",
       "      <td>34103754</td>\n",
       "      <td>25.5</td>\n",
       "      <td>UK</td>\n",
       "      <td>20-40</td>\n",
       "    </tr>\n",
       "    <tr>\n",
       "      <th>1</th>\n",
       "      <td>34443774</td>\n",
       "      <td>503.5</td>\n",
       "      <td>UK</td>\n",
       "      <td>500-520</td>\n",
       "    </tr>\n",
       "    <tr>\n",
       "      <th>2</th>\n",
       "      <td>35163814</td>\n",
       "      <td>51.4</td>\n",
       "      <td>UK</td>\n",
       "      <td>40-60</td>\n",
       "    </tr>\n",
       "    <tr>\n",
       "      <th>3</th>\n",
       "      <td>32323656</td>\n",
       "      <td>470.3</td>\n",
       "      <td>UK</td>\n",
       "      <td>460-480</td>\n",
       "    </tr>\n",
       "    <tr>\n",
       "      <th>4</th>\n",
       "      <td>34463934</td>\n",
       "      <td>43.1</td>\n",
       "      <td>UK</td>\n",
       "      <td>40-60</td>\n",
       "    </tr>\n",
       "    <tr>\n",
       "      <th>...</th>\n",
       "      <td>...</td>\n",
       "      <td>...</td>\n",
       "      <td>...</td>\n",
       "      <td>...</td>\n",
       "    </tr>\n",
       "    <tr>\n",
       "      <th>21854</th>\n",
       "      <td>45402772</td>\n",
       "      <td>49.9</td>\n",
       "      <td>AT</td>\n",
       "      <td>40-60</td>\n",
       "    </tr>\n",
       "    <tr>\n",
       "      <th>21855</th>\n",
       "      <td>47722672</td>\n",
       "      <td>19.4</td>\n",
       "      <td>AT</td>\n",
       "      <td>0-20</td>\n",
       "    </tr>\n",
       "    <tr>\n",
       "      <th>21856</th>\n",
       "      <td>45882618</td>\n",
       "      <td>53.9</td>\n",
       "      <td>AT</td>\n",
       "      <td>40-60</td>\n",
       "    </tr>\n",
       "    <tr>\n",
       "      <th>21857</th>\n",
       "      <td>45342706</td>\n",
       "      <td>24.2</td>\n",
       "      <td>AT</td>\n",
       "      <td>20-40</td>\n",
       "    </tr>\n",
       "    <tr>\n",
       "      <th>21858</th>\n",
       "      <td>47742660</td>\n",
       "      <td>26.0</td>\n",
       "      <td>AT</td>\n",
       "      <td>20-40</td>\n",
       "    </tr>\n",
       "  </tbody>\n",
       "</table>\n",
       "<p>21859 rows × 4 columns</p>\n",
       "</div>"
      ],
      "text/plain": [
       "       Point_ID     OC NUTS_0 OC_state\n",
       "0      34103754   25.5     UK    20-40\n",
       "1      34443774  503.5     UK  500-520\n",
       "2      35163814   51.4     UK    40-60\n",
       "3      32323656  470.3     UK  460-480\n",
       "4      34463934   43.1     UK    40-60\n",
       "...         ...    ...    ...      ...\n",
       "21854  45402772   49.9     AT    40-60\n",
       "21855  47722672   19.4     AT     0-20\n",
       "21856  45882618   53.9     AT    40-60\n",
       "21857  45342706   24.2     AT    20-40\n",
       "21858  47742660   26.0     AT    20-40\n",
       "\n",
       "[21859 rows x 4 columns]"
      ]
     },
     "execution_count": 5,
     "metadata": {},
     "output_type": "execute_result"
    }
   ],
   "source": [
    "co_data_path = r\"D:\\FARM_data\\LUCAS2015_topsoildata_20200323\\LUCAS_Topsoil_2015_20200323.csv\"\n",
    "\n",
    "col_list = [\"Point_ID\", \"NUTS_0\", \"OC\"]\n",
    "df = pd.read_csv(co_data_path, usecols=col_list)\n",
    "max_value = df[\"OC\"].max()\n",
    "for i in range(20, 561, 20):\n",
    "    df.loc[(df['OC'] < (i)) & (df['OC'] > (i-20)), ['OC_state']] = f'{i-20}-{i}'\n",
    "df"
   ]
  },
  {
   "cell_type": "code",
   "execution_count": null,
   "metadata": {},
   "outputs": [],
   "source": []
  },
  {
   "cell_type": "code",
   "execution_count": 6,
   "metadata": {
    "scrolled": true
   },
   "outputs": [
    {
     "name": "stdout",
     "output_type": "stream",
     "text": [
      "ES\n"
     ]
    },
    {
     "name": "stderr",
     "output_type": "stream",
     "text": [
      "<ipython-input-6-4741cb30edef>:7: SettingWithCopyWarning: \n",
      "A value is trying to be set on a copy of a slice from a DataFrame.\n",
      "Try using .loc[row_indexer,col_indexer] = value instead\n",
      "\n",
      "See the caveats in the documentation: https://pandas.pydata.org/pandas-docs/stable/user_guide/indexing.html#returning-a-view-versus-a-copy\n",
      "  df_country[\"spectogram\"] = np.nan\n",
      "C:\\Anaconda3\\lib\\site-packages\\pandas\\core\\generic.py:2431: PerformanceWarning: \n",
      "your performance may suffer as PyTables will pickle object types that it cannot\n",
      "map directly to c-types [inferred_type->mixed,key->block2_values] [items->Index(['NUTS_0', 'OC_state', 'spectogram'], dtype='object')]\n",
      "\n",
      "  pytables.to_hdf(\n"
     ]
    },
    {
     "name": "stdout",
     "output_type": "stream",
     "text": [
      "401.4299600124359\n"
     ]
    }
   ],
   "source": [
    "countries = ['ES'] #DE has problems, ES has memory problems, file size is shit\n",
    "# \"AT\", \"BE\", \"NL\", \"UK\",\"EL\", \"EE\",\"DK\", \"CZ\", \"CY\",\"BG\", \"FI\", \"FR\", \"HR\", \"HU\", \"IE\", \"IT\", \"LT\", \"LU\", \"LV\", \"MT\", \"PL\", \"PT\", \"RO\", \n",
    "# \"SE\", \"SI\", \"SK\"\n",
    "for country in countries:\n",
    "    print(country)\n",
    "    df_country = df.loc[df['NUTS_0'] == country]\n",
    "    df_country[\"spectogram\"] = np.nan\n",
    "    pd.options.mode.chained_assignment = None  #turns an annoying warning off, nothing important\n",
    "    df_country[\"spectogram\"] = df_country[\"spectogram\"].astype(object)\n",
    "\n",
    "    data_clean(country)\n",
    "    with open(folder+\"\\spectra_ \" + country +\" .csv\") as fi:\n",
    "        re = csv.reader(fi)\n",
    "        lst = list()\n",
    "        start = time.time()\n",
    "        row1= np.array(next(re)[5:])\n",
    "\n",
    "        for c, ro in enumerate(re):\n",
    "            pointid = ro[2]\n",
    "            if int(pointid) in df_country['Point_ID'].values:\n",
    "                reflectance = np.array(ro[5:])\n",
    "                r = savgol_filter(reflectance, 11, 2)\n",
    "\n",
    "                f, t, Sxx = signal.spectrogram(r, 1)\n",
    "\n",
    "                sxx_sdv = np.array([[ (Sxx[i][j] - np.mean(Sxx[i]) ) / np.std(Sxx[i]) for j in range(Sxx.shape[1])] for i in range(Sxx.shape[0])])\n",
    "\n",
    "                fig, ax = plt.subplots()\n",
    "                ax.axis('off')\n",
    "                ax.pcolormesh(t, f, sxx_sdv, shading='gouraud')#, shading='gouraud'\n",
    "\n",
    "                io_buf = io.BytesIO()\n",
    "                fig.savefig(io_buf, format='rgba', dpi=72)\n",
    "                io_buf.seek(0)\n",
    "                img_arr = np.reshape(np.frombuffer(io_buf.getvalue(), dtype=np.uint8),\n",
    "                                     newshape=(int(fig.bbox.bounds[3]), int(fig.bbox.bounds[2]), -1))\n",
    "                io_buf.close()\n",
    "                plt.close()\n",
    "\n",
    "\n",
    "                array = img_arr[35:-36]\n",
    "                array = array[:, 54:-43]\n",
    "                array = np.delete(array[:], -1, -1)\n",
    "                df_country.loc[df_country['Point_ID'] == int(pointid), ['spectogram']] = [array]\n",
    "\n",
    "\n",
    "\n",
    "    df_country = df_country.dropna()\n",
    "    df_country.to_hdf(folder+\"\\labeled_data.hdf5\", country)\n",
    "    print(time.time() - start)\n",
    "\n",
    "# TODO: ervoor zorgen dat sneller csv gevuld word (met batches miss werken), ervoor zorgen dat het goed geprint word\n",
    "# npz = np.load(r\"D:\\FARM_data\\Soil_Spectra_s1\\spectra_ BE_array.npz\")"
   ]
  },
  {
   "cell_type": "code",
   "execution_count": 7,
   "metadata": {},
   "outputs": [
    {
     "data": {
      "text/html": [
       "<div>\n",
       "<style scoped>\n",
       "    .dataframe tbody tr th:only-of-type {\n",
       "        vertical-align: middle;\n",
       "    }\n",
       "\n",
       "    .dataframe tbody tr th {\n",
       "        vertical-align: top;\n",
       "    }\n",
       "\n",
       "    .dataframe thead th {\n",
       "        text-align: right;\n",
       "    }\n",
       "</style>\n",
       "<table border=\"1\" class=\"dataframe\">\n",
       "  <thead>\n",
       "    <tr style=\"text-align: right;\">\n",
       "      <th></th>\n",
       "      <th>Point_ID</th>\n",
       "      <th>OC</th>\n",
       "      <th>NUTS_0</th>\n",
       "      <th>OC_state</th>\n",
       "      <th>spectogram</th>\n",
       "    </tr>\n",
       "  </thead>\n",
       "  <tbody>\n",
       "    <tr>\n",
       "      <th>3924</th>\n",
       "      <td>39743148</td>\n",
       "      <td>2.3</td>\n",
       "      <td>BE</td>\n",
       "      <td>0-20</td>\n",
       "      <td>[[[62, 74, 137], [62, 74, 137], [62, 74, 137],...</td>\n",
       "    </tr>\n",
       "    <tr>\n",
       "      <th>3925</th>\n",
       "      <td>39543124</td>\n",
       "      <td>22.4</td>\n",
       "      <td>BE</td>\n",
       "      <td>20-40</td>\n",
       "      <td>[[[66, 64, 134], [66, 64, 134], [66, 64, 134],...</td>\n",
       "    </tr>\n",
       "    <tr>\n",
       "      <th>3926</th>\n",
       "      <td>39483040</td>\n",
       "      <td>15.2</td>\n",
       "      <td>BE</td>\n",
       "      <td>0-20</td>\n",
       "      <td>[[[66, 65, 134], [66, 65, 134], [66, 65, 134],...</td>\n",
       "    </tr>\n",
       "    <tr>\n",
       "      <th>3927</th>\n",
       "      <td>39883092</td>\n",
       "      <td>11.9</td>\n",
       "      <td>BE</td>\n",
       "      <td>0-20</td>\n",
       "      <td>[[[69, 53, 129], [69, 53, 129], [69, 53, 129],...</td>\n",
       "    </tr>\n",
       "    <tr>\n",
       "      <th>3928</th>\n",
       "      <td>39763078</td>\n",
       "      <td>8.6</td>\n",
       "      <td>BE</td>\n",
       "      <td>0-20</td>\n",
       "      <td>[[[65, 66, 135], [65, 66, 135], [65, 66, 135],...</td>\n",
       "    </tr>\n",
       "    <tr>\n",
       "      <th>...</th>\n",
       "      <td>...</td>\n",
       "      <td>...</td>\n",
       "      <td>...</td>\n",
       "      <td>...</td>\n",
       "      <td>...</td>\n",
       "    </tr>\n",
       "    <tr>\n",
       "      <th>21554</th>\n",
       "      <td>39563058</td>\n",
       "      <td>11.4</td>\n",
       "      <td>BE</td>\n",
       "      <td>0-20</td>\n",
       "      <td>[[[62, 74, 137], [62, 74, 137], [62, 74, 137],...</td>\n",
       "    </tr>\n",
       "    <tr>\n",
       "      <th>21555</th>\n",
       "      <td>39523056</td>\n",
       "      <td>14.3</td>\n",
       "      <td>BE</td>\n",
       "      <td>0-20</td>\n",
       "      <td>[[[65, 66, 135], [65, 66, 135], [65, 66, 135],...</td>\n",
       "    </tr>\n",
       "    <tr>\n",
       "      <th>21556</th>\n",
       "      <td>39803036</td>\n",
       "      <td>10.0</td>\n",
       "      <td>BE</td>\n",
       "      <td>0-20</td>\n",
       "      <td>[[[63, 72, 137], [63, 72, 137], [63, 72, 137],...</td>\n",
       "    </tr>\n",
       "    <tr>\n",
       "      <th>21557</th>\n",
       "      <td>40203018</td>\n",
       "      <td>35.8</td>\n",
       "      <td>BE</td>\n",
       "      <td>20-40</td>\n",
       "      <td>[[[69, 53, 129], [69, 53, 129], [69, 53, 129],...</td>\n",
       "    </tr>\n",
       "    <tr>\n",
       "      <th>21558</th>\n",
       "      <td>38183132</td>\n",
       "      <td>34.3</td>\n",
       "      <td>BE</td>\n",
       "      <td>20-40</td>\n",
       "      <td>[[[61, 78, 138], [61, 78, 138], [61, 78, 138],...</td>\n",
       "    </tr>\n",
       "  </tbody>\n",
       "</table>\n",
       "<p>145 rows × 5 columns</p>\n",
       "</div>"
      ],
      "text/plain": [
       "       Point_ID    OC NUTS_0 OC_state  \\\n",
       "3924   39743148   2.3     BE     0-20   \n",
       "3925   39543124  22.4     BE    20-40   \n",
       "3926   39483040  15.2     BE     0-20   \n",
       "3927   39883092  11.9     BE     0-20   \n",
       "3928   39763078   8.6     BE     0-20   \n",
       "...         ...   ...    ...      ...   \n",
       "21554  39563058  11.4     BE     0-20   \n",
       "21555  39523056  14.3     BE     0-20   \n",
       "21556  39803036  10.0     BE     0-20   \n",
       "21557  40203018  35.8     BE    20-40   \n",
       "21558  38183132  34.3     BE    20-40   \n",
       "\n",
       "                                              spectogram  \n",
       "3924   [[[62, 74, 137], [62, 74, 137], [62, 74, 137],...  \n",
       "3925   [[[66, 64, 134], [66, 64, 134], [66, 64, 134],...  \n",
       "3926   [[[66, 65, 134], [66, 65, 134], [66, 65, 134],...  \n",
       "3927   [[[69, 53, 129], [69, 53, 129], [69, 53, 129],...  \n",
       "3928   [[[65, 66, 135], [65, 66, 135], [65, 66, 135],...  \n",
       "...                                                  ...  \n",
       "21554  [[[62, 74, 137], [62, 74, 137], [62, 74, 137],...  \n",
       "21555  [[[65, 66, 135], [65, 66, 135], [65, 66, 135],...  \n",
       "21556  [[[63, 72, 137], [63, 72, 137], [63, 72, 137],...  \n",
       "21557  [[[69, 53, 129], [69, 53, 129], [69, 53, 129],...  \n",
       "21558  [[[61, 78, 138], [61, 78, 138], [61, 78, 138],...  \n",
       "\n",
       "[145 rows x 5 columns]"
      ]
     },
     "execution_count": 7,
     "metadata": {},
     "output_type": "execute_result"
    }
   ],
   "source": [
    "reread = pd.read_hdf(folder+\"\\labeled_data.hdf5\", key=\"BE\")\n",
    "reread"
   ]
  },
  {
   "cell_type": "code",
   "execution_count": null,
   "metadata": {},
   "outputs": [],
   "source": []
  },
  {
   "cell_type": "code",
   "execution_count": 34,
   "metadata": {},
   "outputs": [
    {
     "data": {
      "text/plain": [
       "<HDF5 dataset \"BE\": shape (10, 217, 335, 3), type \"|u1\">"
      ]
     },
     "execution_count": 34,
     "metadata": {},
     "output_type": "execute_result"
    }
   ],
   "source": [
    "f.create_dataset('BE', data=lst)"
   ]
  },
  {
   "cell_type": "code",
   "execution_count": 35,
   "metadata": {},
   "outputs": [],
   "source": [
    "f.close()"
   ]
  },
  {
   "cell_type": "code",
   "execution_count": 36,
   "metadata": {},
   "outputs": [],
   "source": [
    "hf = h5py.File(folder+\"\\mytestfile.hdf5\", 'a')"
   ]
  },
  {
   "cell_type": "code",
   "execution_count": 137,
   "metadata": {},
   "outputs": [
    {
     "name": "stdout",
     "output_type": "stream",
     "text": [
      "false\n"
     ]
    }
   ],
   "source": [
    "if 3980204 in df_country['Point_ID'].values:\n",
    "    print(\"true\")\n",
    "else:\n",
    "    print(\"false\")"
   ]
  },
  {
   "cell_type": "code",
   "execution_count": 158,
   "metadata": {},
   "outputs": [
    {
     "name": "stdout",
     "output_type": "stream",
     "text": [
      "20\n"
     ]
    }
   ],
   "source": [
    "print(20%200)"
   ]
  },
  {
   "cell_type": "code",
   "execution_count": 115,
   "metadata": {},
   "outputs": [
    {
     "name": "stdout",
     "output_type": "stream",
     "text": [
      "done\n"
     ]
    },
    {
     "name": "stderr",
     "output_type": "stream",
     "text": [
      "C:\\ProgramData\\Anaconda3\\lib\\site-packages\\pandas\\core\\generic.py:2606: PerformanceWarning: \n",
      "your performance may suffer as PyTables will pickle object types that it cannot\n",
      "map directly to c-types [inferred_type->mixed,key->block2_values] [items->Index(['NUTS_0', 'spectogram'], dtype='object')]\n",
      "\n",
      "  pytables.to_hdf(\n"
     ]
    }
   ],
   "source": [
    "# TODO: Labelen van Spectogram arrays + opsplitsen train en test?(kan miss ook met train_test_split), \n",
    "# Het opstellen van een model\n",
    "\n",
    "df_country.to_hdf(folder+\"\\mytestfile.hdf5\", 'BE')\n",
    "reread = pd.read_hdf(folder+\"\\mytestfile.hdf5\")\n",
    "print('done')\n"
   ]
  },
  {
   "cell_type": "code",
   "execution_count": null,
   "metadata": {},
   "outputs": [],
   "source": [
    "# # Bron: https://www.pythoninformer.com/python-libraries/numpy/numpy-and-images/\n",
    "# img = Image.open('image.jpeg')\n",
    "# array = np.array(img)\n",
    "# array = array[35:-36] #54:-43\n",
    "# array = array[:, 54:-43]\n",
    "# invimg = Image.fromarray(array)\n",
    "# invimg.save('TRANSFORM.jpeg')"
   ]
  },
  {
   "cell_type": "code",
   "execution_count": 131,
   "metadata": {},
   "outputs": [
    {
     "name": "stdout",
     "output_type": "stream",
     "text": [
      "      Point_ID     OC NUTS_0  \\\n",
      "452   40703338  354.6     NL   \n",
      "453   40843338   54.5     NL   \n",
      "454   40843320   47.8     NL   \n",
      "455   40623316   40.7     NL   \n",
      "456   41063342   41.6     NL   \n",
      "...        ...    ...    ...   \n",
      "9856  41163298   45.5     NL   \n",
      "9857  39803204   77.0     NL   \n",
      "9858  40563266   24.6     NL   \n",
      "9859  39723232    3.6     NL   \n",
      "9860  40063260   23.6     NL   \n",
      "\n",
      "                                             spectogram  \n",
      "452   [[[66, 63, 133], [66, 63, 133], [66, 63, 133],...  \n",
      "453   [[[60, 79, 138], [60, 79, 138], [60, 79, 138],...  \n",
      "454   [[[54, 92, 141], [54, 92, 141], [54, 92, 141],...  \n",
      "455   [[[57, 85, 140], [57, 85, 140], [57, 85, 140],...  \n",
      "456   [[[59, 81, 139], [59, 81, 139], [59, 81, 139],...  \n",
      "...                                                 ...  \n",
      "9856  [[[60, 80, 139], [60, 80, 139], [60, 80, 139],...  \n",
      "9857  [[[58, 83, 139], [58, 83, 139], [58, 83, 139],...  \n",
      "9858  [[[67, 62, 133], [67, 62, 133], [67, 62, 133],...  \n",
      "9859  [[[65, 68, 135], [65, 68, 135], [65, 68, 135],...  \n",
      "9860  [[[68, 59, 132], [68, 59, 132], [68, 59, 132],...  \n",
      "\n",
      "[171 rows x 4 columns]\n"
     ]
    }
   ],
   "source": [
    "print(reread)"
   ]
  },
  {
   "cell_type": "code",
   "execution_count": 45,
   "metadata": {},
   "outputs": [
    {
     "data": {
      "image/png": "[encoded data removed]",
      "text/plain": [
       "<Figure size 432x288 with 1 Axes>"
      ]
     },
     "metadata": {
      "needs_background": "light"
     },
     "output_type": "display_data"
    }
   ],
   "source": [
    "plt.title(\"Line graph\") \n",
    "plt.xlabel(\"X axis\") \n",
    "plt.ylabel(\"Y axis\") \n",
    "plt.plot(row1, r, color =\"red\") \n",
    "plt.show()"
   ]
  },
  {
   "cell_type": "code",
   "execution_count": null,
   "metadata": {},
   "outputs": [],
   "source": []
  },
  {
   "cell_type": "markdown",
   "metadata": {},
   "source": [
    "\n"
   ]
  },
  {
   "cell_type": "code",
   "execution_count": null,
   "metadata": {},
   "outputs": [],
   "source": []
  }
 ],
 "metadata": {
  "kernelspec": {
   "display_name": "Python 3",
   "language": "python",
   "name": "python3"
  },
  "language_info": {
   "codemirror_mode": {
    "name": "ipython",
    "version": 3
   },
   "file_extension": ".py",
   "mimetype": "text/x-python",
   "name": "python",
   "nbconvert_exporter": "python",
   "pygments_lexer": "ipython3",
   "version": "3.8.3"
  }
 },
 "nbformat": 4,
 "nbformat_minor": 4
}
